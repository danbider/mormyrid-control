{
 "cells": [
  {
   "cell_type": "code",
   "execution_count": 7,
   "id": "atmospheric-cooperative",
   "metadata": {},
   "outputs": [],
   "source": [
    "import gpytorch\n",
    "import os\n",
    "import pandas as pd"
   ]
  },
  {
   "cell_type": "code",
   "execution_count": 2,
   "id": "lovely-schedule",
   "metadata": {},
   "outputs": [],
   "source": [
    "%load_ext autoreload\n",
    "%autoreload 2"
   ]
  },
  {
   "cell_type": "code",
   "execution_count": 6,
   "id": "raised-destruction",
   "metadata": {},
   "outputs": [],
   "source": [
    "points_path = '/Volumes/sawtell-locker/C1/free/vids/20201110_Joao/concatenated_tracking.csv'\n",
    "assert(os.path.isfile(points_path))"
   ]
  },
  {
   "cell_type": "code",
   "execution_count": 10,
   "id": "structural-header",
   "metadata": {},
   "outputs": [],
   "source": [
    "tracking_data = pd.read_csv(\n",
    "            points_path) # make take a while to load."
   ]
  },
  {
   "cell_type": "code",
   "execution_count": 12,
   "id": "smaller-toolbox",
   "metadata": {},
   "outputs": [
    {
     "name": "stdout",
     "output_type": "stream",
     "text": [
      "shape of dataframe: (274593, 325)\n",
      "   Unnamed: 0  head_main_x  head_main_y  head_main_confidence  \\\n",
      "0           0    292.16000       355.16              0.004774   \n",
      "1           1    304.91998       102.80              0.005335   \n",
      "2           2    292.24000       355.12              0.004789   \n",
      "3           3    295.52000        98.96              0.004352   \n",
      "4           4    292.24000       355.16              0.004624   \n",
      "\n",
      "   chin_base_main_x  chin_base_main_y  chin_base_main_confidence  \\\n",
      "0         390.36000        356.280000                   0.010182   \n",
      "1         390.56000        356.000000                   0.010290   \n",
      "2         471.32000         18.120010                   0.010828   \n",
      "3         390.47998        355.919980                   0.010640   \n",
      "4         471.32000         18.240005                   0.010662   \n",
      "\n",
      "   chin1_4_main_x  chin1_4_main_y  chin1_4_main_confidence  ...  \\\n",
      "0          294.52       97.240005                 0.010161  ...   \n",
      "1          294.56       97.240005                 0.009414  ...   \n",
      "2          293.76       97.200005                 0.008733  ...   \n",
      "3          293.84       97.240005                 0.009499  ...   \n",
      "4          294.16       97.440000                 0.009921  ...   \n",
      "\n",
      "   well_side_TL_right_confidence  well_side_TR_right_x  well_side_TR_right_y  \\\n",
      "0                       0.917228             395.59998                337.24   \n",
      "1                       0.939133             395.64000                337.32   \n",
      "2                       0.945282             395.59998                337.32   \n",
      "3                       0.932933             395.59998                337.44   \n",
      "4                       0.928314             395.59998                337.36   \n",
      "\n",
      "   well_side_TR_right_confidence  well_side_BR_right_x  well_side_BR_right_y  \\\n",
      "0                       0.947822             395.44000             356.03998   \n",
      "1                       0.947179             395.59998             356.03998   \n",
      "2                       0.940903             395.47998             356.12000   \n",
      "3                       0.928610             395.52002             356.16000   \n",
      "4                       0.936026             395.59998             356.20000   \n",
      "\n",
      "   well_side_BR_right_confidence  well_side_BL_right_x  well_side_BL_right_y  \\\n",
      "0                       0.909657                382.52                355.68   \n",
      "1                       0.924198                382.64                355.68   \n",
      "2                       0.929212                382.52                355.64   \n",
      "3                       0.925431                382.52                355.68   \n",
      "4                       0.928365                382.56                355.64   \n",
      "\n",
      "   well_side_BL_right_confidence  \n",
      "0                       0.902131  \n",
      "1                       0.925596  \n",
      "2                       0.917042  \n",
      "3                       0.915281  \n",
      "4                       0.914459  \n",
      "\n",
      "[5 rows x 325 columns]\n"
     ]
    }
   ],
   "source": [
    "print(\"shape of dataframe: {}\".format(tracking_data.shape))\n",
    "print(tracking_data.head())"
   ]
  },
  {
   "cell_type": "code",
   "execution_count": 13,
   "id": "micro-bacon",
   "metadata": {},
   "outputs": [
    {
     "name": "stdout",
     "output_type": "stream",
     "text": [
      "Index(['worm_1_top_x', 'worm_1_top_y', 'worm_1_top_confidence', 'worm_2_top_x',\n",
      "       'worm_2_top_y', 'worm_2_top_confidence', 'worm_3_top_x', 'worm_3_top_y',\n",
      "       'worm_3_top_confidence', 'worm_4_top_x', 'worm_4_top_y',\n",
      "       'worm_4_top_confidence', 'worm_5_top_x', 'worm_5_top_y',\n",
      "       'worm_5_top_confidence', 'worm_1_main_x', 'worm_1_main_y',\n",
      "       'worm_1_main_confidence', 'worm_1_right_x', 'worm_1_right_y',\n",
      "       'worm_1_right_confidence', 'worm_2_main_x', 'worm_2_main_y',\n",
      "       'worm_2_main_confidence', 'worm_3_main_x', 'worm_3_main_y',\n",
      "       'worm_3_main_confidence', 'worm_4_main_x', 'worm_4_main_y',\n",
      "       'worm_4_main_confidence', 'worm_5_main_x', 'worm_5_main_y',\n",
      "       'worm_5_main_confidence', 'worm_2_right_x', 'worm_2_right_y',\n",
      "       'worm_2_right_confidence', 'worm_3_right_x', 'worm_3_right_y',\n",
      "       'worm_3_right_confidence', 'worm_4_right_x', 'worm_4_right_y',\n",
      "       'worm_4_right_confidence', 'worm_5_right_x', 'worm_5_right_y',\n",
      "       'worm_5_right_confidence'],\n",
      "      dtype='object')\n"
     ]
    }
   ],
   "source": [
    "worm_colnames = tracking_data.columns[tracking_data.columns.str.contains(\"worm\")]\n",
    "tracking_data.columns = tracking_data.columns.str.replace(\"worm_right_\", \"worm_1_right_\")\n",
    "tracking_data.columns = tracking_data.columns.str.replace(\"worm_front_\", \"worm_1_\")\n",
    "tracking_data.columns = tracking_data.columns.str.replace(\"worm_right\", \"worm_\")\n",
    "tracking_data.columns = tracking_data.columns.str.replace(\"worm_front\", \"worm_\")\n",
    "worm_colnames = tracking_data.columns[tracking_data.columns.str.contains(\"worm\")]\n",
    "print(worm_colnames)"
   ]
  },
  {
   "cell_type": "code",
   "execution_count": null,
   "id": "fifty-course",
   "metadata": {},
   "outputs": [],
   "source": [
    "# points are (num_frames, 3 * num_bodyparts)\n",
    "dlc_points = np.asarray(dlc_data)[:, 1:]\n",
    "# Find x,y columns\n",
    "columns = list(dlc_data.columns)[1:]\n",
    "x_points = []\n",
    "y_points = []\n",
    "confidences = []\n",
    "skeleton_names = []\n",
    "for i, name in enumerate(columns):\n",
    "    # return a length-108 list whose entries are 1D np.arrays\n",
    "    if name.endswith(\"x\"):\n",
    "        x_points.append(dlc_points[:, i])\n",
    "        skeleton_names.append(name[:-2])\n",
    "    elif name.endswith(\"y\"):\n",
    "        y_points.append(dlc_points[:, i])\n",
    "    elif name.endswith(\"confidence\"):\n",
    "        confidences.append(dlc_points[:, i])\n",
    "x_points = np.asarray(x_points).transpose()[:, :, np.newaxis]\n",
    "y_points = np.asarray(y_points).transpose()[:, :, np.newaxis]\n",
    "confidences = np.asarray(confidences).transpose()"
   ]
  }
 ],
 "metadata": {
  "kernelspec": {
   "display_name": "mrmrd_ctrl",
   "language": "python",
   "name": "mrmrd_ctrl"
  },
  "language_info": {
   "codemirror_mode": {
    "name": "ipython",
    "version": 3
   },
   "file_extension": ".py",
   "mimetype": "text/x-python",
   "name": "python",
   "nbconvert_exporter": "python",
   "pygments_lexer": "ipython3",
   "version": "3.9.4"
  }
 },
 "nbformat": 4,
 "nbformat_minor": 5
}

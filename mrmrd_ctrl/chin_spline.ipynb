{
 "cells": [
  {
   "cell_type": "code",
   "execution_count": 37,
   "metadata": {},
   "outputs": [],
   "source": [
    "# https://stackoverflow.com/questions/45350891/fitting-a-polynomial-using-np-polyfit-in-3-dimensions\n",
    "# https://math.stackexchange.com/questions/1786495/estimating-the-curvature-of-a-discretized-curve-in-3d-with-cubic-splines"
   ]
  },
  {
   "cell_type": "code",
   "execution_count": 38,
   "metadata": {},
   "outputs": [
    {
     "output_type": "stream",
     "name": "stdout",
     "text": [
      "The autoreload extension is already loaded. To reload it, use:\n  %reload_ext autoreload\n"
     ]
    }
   ],
   "source": [
    "# %matplotlib qt\n",
    "%load_ext autoreload\n",
    "%autoreload 2\n",
    "from utils.utils_IO import load_object, write_video_from_directory, write_video_from_list, read_frame_at_idx, plot_chin_spline\n",
    "from utils.polyfitting import fit_3D_polynomial, \\\n",
    "        fit_polynomials_per_frame, \\\n",
    "        eval_3D_polynomials, \\\n",
    "            eval_polynomials_per_frame, compute_curvature_per_frame, compute_curvature_function \n",
    "import numpy as np\n",
    "import matplotlib\n",
    "matplotlib.use(\"agg\")\n",
    "import matplotlib.pyplot as plt\n",
    "from mpl_toolkits.mplot3d import Axes3D\n",
    "from scipy import interpolate\n",
    "import cv2\n",
    "from pathlib import Path\n",
    "from matplotlib.backends.backend_agg import FigureCanvasAgg as FigureCanvas\n",
    "from tqdm import tqdm\n",
    "import re\n",
    "from typeguard import typechecked\n",
    "from typing import List, Callable"
   ]
  },
  {
   "cell_type": "code",
   "execution_count": 39,
   "metadata": {},
   "outputs": [],
   "source": [
    "data_dict = load_object('/Volumes/sawtell-locker/C1/free/3d_reconstruction/V2/data_dict')"
   ]
  },
  {
   "cell_type": "code",
   "execution_count": 40,
   "metadata": {
    "tags": []
   },
   "outputs": [],
   "source": [
    "trial_number = 0\n",
    "example_trial = data_dict[\"trials\"][\"Joao\"][\"pre\"][trial_number]\n",
    "video_path = Path(data_dict[\"video_paths\"][\"Joao\"][\"pre\"]) / \"concatenated_tracking.avi\"\n",
    "#reproj_path = Path(f'/Volumes/sawtell-locker/C1/free/3d_reconstruction/V2/{video_path.parent.stem}') / \"reprojections.mov\"\n",
    "#if not Path.is_file(reproj_path):\n",
    "#    raise ValueError(f\"No reprojections for {video_path.parent.stem}\")"
   ]
  },
  {
   "cell_type": "code",
   "execution_count": 41,
   "metadata": {},
   "outputs": [],
   "source": [
    "# Collect columns with chin \n",
    "# chin_base, chin_1_4, chin_mid, chin_3_4, chin_end\n",
    "chin_trial_df = example_trial.filter(regex='chin')\n",
    "chin_trial_arr = np.reshape(chin_trial_df.values, (chin_trial_df.values.shape[0], -1, 3))\n",
    "# Get bodypart names\n",
    "bp_names = []\n",
    "for col in chin_trial_df.columns:\n",
    "    if col[0] not in bp_names:\n",
    "        bp_names.append(col[0])"
   ]
  },
  {
   "cell_type": "code",
   "execution_count": 42,
   "metadata": {},
   "outputs": [
    {
     "output_type": "stream",
     "name": "stderr",
     "text": [
      "100%|██████████| 1098/1098 [00:00<00:00, 2280.26it/s]\n"
     ]
    }
   ],
   "source": [
    "# fit polynomial to a sequence of time pts\n",
    "coeffs_all_frames = fit_polynomials_per_frame(data_arr = chin_trial_arr, degree = 2)"
   ]
  },
  {
   "cell_type": "code",
   "execution_count": 43,
   "metadata": {},
   "outputs": [],
   "source": [
    "interpolation_points = np.linspace(0,4,20)"
   ]
  },
  {
   "cell_type": "code",
   "execution_count": 44,
   "metadata": {},
   "outputs": [
    {
     "output_type": "stream",
     "name": "stderr",
     "text": [
      "100%|██████████| 1098/1098 [00:00<00:00, 8182.90it/s]\n"
     ]
    }
   ],
   "source": [
    "evals = eval_polynomials_per_frame(coeffs_all_frames, interpolation_points)"
   ]
  },
  {
   "cell_type": "code",
   "execution_count": 45,
   "metadata": {
    "tags": []
   },
   "outputs": [
    {
     "output_type": "stream",
     "name": "stderr",
     "text": [
      "100%|██████████| 1098/1098 [00:00<00:00, 36132.55it/s]\n"
     ]
    }
   ],
   "source": [
    "from utils.polyfitting import compute_curvature_per_frame\n",
    "curvatures = compute_curvature_per_frame(coeffs_all_frames=coeffs_all_frames, \n",
    "                                         interpolation_points=interpolation_points)"
   ]
  },
  {
   "cell_type": "code",
   "execution_count": 46,
   "metadata": {},
   "outputs": [],
   "source": [
    "frame_idx = 120\n",
    "plt.subplot(141)\n",
    "plt.plot(evals[frame_idx, 0, :])\n",
    "plt.title('x')\n",
    "plt.subplot(142)\n",
    "plt.plot(evals[frame_idx, 1, :])\n",
    "plt.title('y')\n",
    "plt.subplot(143)\n",
    "plt.plot(evals[frame_idx, 2, :])\n",
    "plt.title('z')\n",
    "plt.subplot(144)\n",
    "plt.plot(curvatures[frame_idx, 5:])\n",
    "plt.title('curvature')\n",
    "plt.tight_layout()"
   ]
  },
  {
   "cell_type": "code",
   "execution_count": 61,
   "metadata": {
    "tags": []
   },
   "outputs": [
    {
     "output_type": "stream",
     "name": "stderr",
     "text": [
      "100%|██████████| 300/300 [01:02<00:00,  4.78it/s]\n"
     ]
    }
   ],
   "source": [
    "from utils.utils_IO import plot_chin_spline\n",
    "plot_chin_spline(chin_trial_arr=chin_trial_arr, bp_names=bp_names, \n",
    "                 poly_evals=evals, curvatures=curvatures, out_file=\"chin_movie.mov\",\n",
    "                 start_frame=500, end_frame=800)"
   ]
  },
  {
   "cell_type": "code",
   "execution_count": null,
   "metadata": {},
   "outputs": [],
   "source": []
  }
 ],
 "metadata": {
  "kernelspec": {
   "name": "python3",
   "display_name": "Python 3.9.5 64-bit ('mormyrid-control': conda)"
  },
  "language_info": {
   "codemirror_mode": {
    "name": "ipython",
    "version": 3
   },
   "file_extension": ".py",
   "mimetype": "text/x-python",
   "name": "python",
   "nbconvert_exporter": "python",
   "pygments_lexer": "ipython3",
   "version": "3.9.5"
  },
  "interpreter": {
   "hash": "91a22105721b5fa3681a6a510c981cc50bf9387d638e9a4ce953c71596a0863e"
  }
 },
 "nbformat": 4,
 "nbformat_minor": 2
}
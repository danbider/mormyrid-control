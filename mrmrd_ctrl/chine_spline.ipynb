{
 "cells": [
  {
   "cell_type": "code",
   "execution_count": 1,
   "metadata": {},
   "outputs": [],
   "source": [
    "# https://stackoverflow.com/questions/45350891/fitting-a-polynomial-using-np-polyfit-in-3-dimensions\n",
    "# https://math.stackexchange.com/questions/1786495/estimating-the-curvature-of-a-discretized-curve-in-3d-with-cubic-splines"
   ]
  },
  {
   "cell_type": "code",
   "execution_count": 265,
   "metadata": {},
   "outputs": [
    {
     "name": "stdout",
     "output_type": "stream",
     "text": [
      "The autoreload extension is already loaded. To reload it, use:\n",
      "  %reload_ext autoreload\n"
     ]
    }
   ],
   "source": [
    "# %matplotlib qt\n",
    "%load_ext autoreload\n",
    "%autoreload 2\n",
    "from utils.utils_IO import load_object, write_video, read_frame_at_idx\n",
    "from utils.polyfitting import fit_3D_polynomial, \\\n",
    "        fit_polynomials_per_frame, \\\n",
    "        eval_3D_polynomials, \\\n",
    "            eval_polynomials_per_frame, compute_curvature_per_frame, compute_curvature_function \n",
    "import numpy as np\n",
    "import matplotlib\n",
    "matplotlib.use(\"agg\")\n",
    "import matplotlib.pyplot as plt\n",
    "from mpl_toolkits.mplot3d import Axes3D\n",
    "from scipy import interpolate\n",
    "import cv2\n",
    "from pathlib import Path\n",
    "from matplotlib.backends.backend_agg import FigureCanvasAgg as FigureCanvas\n",
    "from tqdm import tqdm\n",
    "import re\n",
    "from typeguard import typechecked\n",
    "from typing import List, Callable"
   ]
  },
  {
   "cell_type": "code",
   "execution_count": 109,
   "metadata": {},
   "outputs": [],
   "source": [
    "data_dict = load_object('/Volumes/sawtell-locker/C1/free/3d_reconstruction/V2/data_dict')"
   ]
  },
  {
   "cell_type": "code",
   "execution_count": 110,
   "metadata": {
    "tags": []
   },
   "outputs": [],
   "source": [
    "trial_number = 0\n",
    "example_trial = data_dict[\"trials\"][\"Joao\"][\"pre\"][trial_number]\n",
    "video_path = Path(data_dict[\"video_paths\"][\"Joao\"][\"pre\"]) / \"concatenated_tracking.avi\"\n",
    "reproj_path = Path(f'/Volumes/sawtell-locker/C1/free/3d_reconstruction/V2/{video_path.parent.stem}') / \"reprojections.mov\"\n",
    "if not Path.is_file(reproj_path):\n",
    "    raise ValueError(f\"No reprojections for {video_path.parent.stem}\")"
   ]
  },
  {
   "cell_type": "code",
   "execution_count": 171,
   "metadata": {},
   "outputs": [
    {
     "name": "stdout",
     "output_type": "stream",
     "text": [
      "(1098, 5, 3)\n"
     ]
    }
   ],
   "source": [
    "# Collect columns with chin \n",
    "# chin_base, chin_1_4, chin_mid, chin_3_4, chin_end\n",
    "chin_trial_df = example_trial.filter(regex='chin')\n",
    "chin_trial_arr = np.reshape(chin_trial_df.values, (chin_trial_df.values.shape[0], -1, 3))\n",
    "# Get bodypart names\n",
    "bp_names = []\n",
    "for col in chin_trial_df.columns:\n",
    "    if col[0] not in bp_names:\n",
    "        bp_names.append(col[0])\n",
    "print(chin_trial_arr.shape)"
   ]
  },
  {
   "cell_type": "code",
   "execution_count": 172,
   "metadata": {},
   "outputs": [
    {
     "name": "stderr",
     "output_type": "stream",
     "text": [
      "100%|██████████| 1098/1098 [00:00<00:00, 4919.74it/s]\n"
     ]
    }
   ],
   "source": [
    "# fit polynomial to a sequence of time pts\n",
    "coeffs_all_frames = fit_polynomials_per_frame(data_arr = chin_trial_arr, degree = 2)"
   ]
  },
  {
   "cell_type": "code",
   "execution_count": 242,
   "metadata": {},
   "outputs": [],
   "source": [
    "interpolation_points = np.linspace(0,5,200)"
   ]
  },
  {
   "cell_type": "code",
   "execution_count": 243,
   "metadata": {},
   "outputs": [
    {
     "name": "stderr",
     "output_type": "stream",
     "text": [
      "100%|██████████| 1098/1098 [00:00<00:00, 13065.96it/s]\n"
     ]
    }
   ],
   "source": [
    "evals = eval_polynomials_per_frame(coeffs_all_frames, interpolation_points)"
   ]
  },
  {
   "cell_type": "code",
   "execution_count": 256,
   "metadata": {},
   "outputs": [],
   "source": [
    "curvatures = compute_curvature_per_frame(coeffs_all_frames=coeffs_all_frames, \n",
    "                                         interpolation_points=interpolation_points)"
   ]
  },
  {
   "cell_type": "code",
   "execution_count": 264,
   "metadata": {},
   "outputs": [
    {
     "data": {
      "image/png": "[encoded data removed]",
      "text/plain": [
       "<Figure size 432x288 with 4 Axes>"
      ]
     },
     "metadata": {
      "needs_background": "light"
     },
     "output_type": "display_data"
    }
   ],
   "source": [
    "frame_idx = 12\n",
    "plt.subplot(141)\n",
    "plt.plot(evals[frame_idx, 0, :])\n",
    "plt.title('x')\n",
    "plt.subplot(142)\n",
    "plt.plot(evals[frame_idx, 1, :])\n",
    "plt.title('y')\n",
    "plt.subplot(143)\n",
    "plt.plot(evals[frame_idx, 2, :])\n",
    "plt.title('z')\n",
    "plt.subplot(144)\n",
    "plt.plot(curvatures[frame_idx,:])\n",
    "plt.title('curvature')\n",
    "plt.tight_layout()"
   ]
  },
  {
   "cell_type": "markdown",
   "metadata": {},
   "source": [
    "TODO: \n",
    "* change the code below to use the above functions\n",
    "* subtract the chin base coords from all other points, so the 3d plot is always centered and interpretable\n",
    "* verify the curvature func, it outputs weird values (always monotonously decreasing)"
   ]
  },
  {
   "cell_type": "code",
   "execution_count": 10,
   "metadata": {
    "tags": []
   },
   "outputs": [
    {
     "name": "stdout",
     "output_type": "stream",
     "text": [
      "chin_trial_arr:  (1098, 5, 3)\n"
     ]
    },
    {
     "name": "stderr",
     "output_type": "stream",
     "text": [
      "100%|██████████| 598/598 [02:44<00:00,  3.63it/s]\n"
     ]
    }
   ],
   "source": [
    "# Sun's version\n",
    "save_dir = Path(\"./spline_outputs\").resolve()\n",
    "save_dir.mkdir(exist_ok=True, parents=True)\n",
    "\n",
    "poly_degree = 2\n",
    "start_frame = 500\n",
    "poly_coeffs = []\n",
    "num_interp_points = 20\n",
    "print('chin_trial_arr: ', chin_trial_arr.shape)\n",
    "for frame_idx in tqdm(range(start_frame, chin_trial_arr.shape[0])):\n",
    "    chin_frame_points = chin_trial_arr[frame_idx]\n",
    "    # Normalize to 0,1 in each dimension\n",
    "    # Normalize x, y, z\n",
    "    for i in range(3):\n",
    "        chin_min = np.min(chin_frame_points[:, i])\n",
    "        chin_max = np.max(chin_frame_points[:, i])\n",
    "        chin_frame_points[:, i] = (chin_frame_points[:, i] - chin_min) / (chin_max - chin_min)\n",
    "    t = np.arange(chin_frame_points.shape[0])\n",
    "    ti = np.linspace(0, chin_frame_points.shape[0] - 1, num_interp_points)\n",
    "    x = chin_frame_points[:, 0]\n",
    "    y = chin_frame_points[:, 1]\n",
    "    z = chin_frame_points[:, 2]\n",
    "    \n",
    "    xi = np.linspace(np.min(x), np.max(x), num_interp_points)\n",
    "    yi = np.linspace(np.min(y), np.max(y), num_interp_points)\n",
    "\n",
    "    # rbfi = interpolate.Rbf(x, y, z)\n",
    "    # bvspline = interpolate.SmoothBivariateSpline(x, y, z, kx=2, ky=2)\n",
    "    # zi = rbfi(xi, yi)\n",
    "    # zi = bvspline(xi, yi)\n",
    "\n",
    "    fitx = np.polyfit(t, x, poly_degree)\n",
    "    fity = np.polyfit(t, y, poly_degree)\n",
    "    fitz = np.polyfit(t, z, poly_degree)\n",
    "    poly_coeffs.append([fitx, fity, fitz])    \n",
    "    \n",
    "\n",
    "    curvature_func = compute_curvature_function(fitx, fity, fitz)   \n",
    "    max_curve = -np.inf\n",
    "    for tii in t[1:]:\n",
    "        if curvature_func(tii) > max_curve:\n",
    "            max_curve = curvature_func(tii)\n",
    "            max_curve_idx = tii\n",
    "\n",
    "    xi = np.polyval(fitx, ti)\n",
    "    yi = np.polyval(fity, ti)\n",
    "    zi = np.polyval(fitz, ti)\n",
    "\n",
    "    x_curve = np.polyval(fitx, max_curve_idx)\n",
    "    y_curve = np.polyval(fity, max_curve_idx)\n",
    "    z_curve = np.polyval(fitz, max_curve_idx)\n",
    "\n",
    "    fig = plt.figure()\n",
    "    ax = fig.add_subplot(111, projection='3d')\n",
    "    ax.scatter(xs=xi, ys=yi, zs=zi)\n",
    "    ax.scatter(x, y, z)\n",
    "    ax.scatter(x_curve, y_curve, z_curve, c=\"r\")\n",
    "    ax.view_init(elev=-90, azim=-90)\n",
    "    ax.title.set_text(f\"$\\kappa$: {max_curve}\")\n",
    "\n",
    "    for i, txt in enumerate(range(chin_frame_points.shape[0])):\n",
    "        if 'base' in bp_names[i] or 'end' in bp_names[i]:\n",
    "            ax.text(x[i], y[i], z[i], bp_names[i])\n",
    "\n",
    "    ax.axes.set_xlim3d([0, 1])\n",
    "    ax.axes.set_ylim3d([0, 1])\n",
    "    ax.axes.set_zlim3d([0, 1])\n",
    "\n",
    "    ax.set_xlabel('$X$')\n",
    "    ax.set_ylabel('$Y$')\n",
    "    ax.set_zlabel('$Z$')\n",
    "    ax.xaxis.set_tick_params(labelsize=0)\n",
    "    ax.yaxis.set_tick_params(labelsize=0)\n",
    "    ax.zaxis.set_tick_params(labelsize=0)\n",
    "    ax.set_axis_off() \n",
    "    ax.set\n",
    "\n",
    "    fig.canvas.draw()\n",
    "    # Now we can save it to a numpy array.\n",
    "    chin_plot_image = np.frombuffer(fig.canvas.tostring_rgb(), dtype=np.uint8)\n",
    "    chin_plot_image = chin_plot_image.reshape(fig.canvas.get_width_height()[::-1] + (3,))\n",
    "    plt.close(\"all\")\n",
    "    video_frame = read_frame_at_idx(video_path, frame_idx)\n",
    "    # reproj_frame = read_frame_at_idx(reproj_path, frame_idx)\n",
    "    width = chin_plot_image.shape[1]\n",
    "    height = chin_plot_image.shape[0]\n",
    "    dim = (width, height)\n",
    "    #vis = np.concatenate((chin_plot_image, cv2.resize(video_frame, dim), cv2.resize(reproj_frame, dim)), axis=1)\n",
    "    vis = np.concatenate((chin_plot_image, cv2.resize(video_frame, dim)), axis=1)\n",
    "    cv2.imwrite(str(save_dir / f\"frame_{frame_idx}.png\"), vis)\n",
    "poly_coeffs = np.asarray(poly_coeffs)\n",
    "\n"
   ]
  },
  {
   "cell_type": "code",
   "execution_count": 11,
   "metadata": {},
   "outputs": [],
   "source": [
    "write_video(image_dir=str(save_dir), out_file=\"chin_movie_3.mov\", fps=50)"
   ]
  },
  {
   "cell_type": "code",
   "execution_count": null,
   "metadata": {},
   "outputs": [],
   "source": []
  }
 ],
 "metadata": {
  "kernelspec": {
   "display_name": "mrmrd_ctrl",
   "language": "python",
   "name": "mrmrd_ctrl"
  },
  "language_info": {
   "codemirror_mode": {
    "name": "ipython",
    "version": 3
   },
   "file_extension": ".py",
   "mimetype": "text/x-python",
   "name": "python",
   "nbconvert_exporter": "python",
   "pygments_lexer": "ipython3",
   "version": "3.9.4"
  }
 },
 "nbformat": 4,
 "nbformat_minor": 2
}

{
 "metadata": {
  "language_info": {
   "codemirror_mode": {
    "name": "ipython",
    "version": 3
   },
   "file_extension": ".py",
   "mimetype": "text/x-python",
   "name": "python",
   "nbconvert_exporter": "python",
   "pygments_lexer": "ipython3",
   "version": "3.9.5"
  },
  "orig_nbformat": 2,
  "kernelspec": {
   "name": "python395jvsc74a57bd091a22105721b5fa3681a6a510c981cc50bf9387d638e9a4ce953c71596a0863e",
   "display_name": "Python 3.9.5 64-bit ('mormyrid-control': conda)"
  }
 },
 "nbformat": 4,
 "nbformat_minor": 2,
 "cells": [
  {
   "cell_type": "code",
   "execution_count": null,
   "metadata": {},
   "outputs": [],
   "source": [
    "# https://stackoverflow.com/questions/45350891/fitting-a-polynomial-using-np-polyfit-in-3-dimensions\n",
    "# https://math.stackexchange.com/questions/1786495/estimating-the-curvature-of-a-discretized-curve-in-3d-with-cubic-splines\n"
   ]
  },
  {
   "cell_type": "code",
   "execution_count": 1,
   "metadata": {},
   "outputs": [],
   "source": [
    "# %matplotlib qt\n",
    "%load_ext autoreload\n",
    "%autoreload 2\n",
    "from utils.utils_IO import load_object, write_video\n",
    "import numpy as np\n",
    "import matplotlib\n",
    "matplotlib.use(\"agg\")\n",
    "import matplotlib.pyplot as plt\n",
    "from mpl_toolkits.mplot3d import Axes3D\n",
    "from scipy import interpolate\n",
    "import cv2\n",
    "from pathlib import Path\n",
    "from matplotlib.backends.backend_agg import FigureCanvasAgg as FigureCanvas\n",
    "from tqdm import tqdm\n",
    "import re\n",
    "\n"
   ]
  },
  {
   "cell_type": "code",
   "execution_count": null,
   "metadata": {},
   "outputs": [],
   "source": [
    "data_dict = load_object('/Volumes/sawtell-locker/C1/free/3d_reconstruction/V2/data_dict')"
   ]
  },
  {
   "cell_type": "code",
   "execution_count": null,
   "metadata": {
    "tags": []
   },
   "outputs": [],
   "source": [
    "trial_number = 0\n",
    "example_trial = data_dict[\"trials\"][\"Joao\"][\"pre\"][trial_number]\n",
    "video_path = Path(data_dict[\"video_paths\"][\"Joao\"][\"pre\"]) / \"concatenated_tracking.avi\"\n",
    "reproj_path = Path(f'/Volumes/sawtell-locker/C1/free/3d_reconstruction/V2/{video_path.parent.stem}') / \"reprojections.mov\"\n",
    "if not Path.is_file(reproj_path):\n",
    "    raise ValueError(f\"No reprojections for {video_path.parent.stem}\")"
   ]
  },
  {
   "cell_type": "code",
   "execution_count": null,
   "metadata": {},
   "outputs": [],
   "source": [
    "def read_frame_at_idx(video_path, frame_idx):\n",
    "    vidcap = cv2.VideoCapture(str(video_path))\n",
    "    count = 0\n",
    "    success = True\n",
    "    while success:  \n",
    "        success,image = vidcap.read() \n",
    "        if count >= frame_idx:\n",
    "            return image    \n",
    "        count += 1\n",
    "        \n",
    "    if count < frame_idx:\n",
    "        print(f\"Request frame {frame_idx} is too large\")\n",
    "        return None\n",
    "\n",
    "def compute_curvature_function(x, y, z):\n",
    "    # r = (x,y,z) each coeffs of a quadratic spline\n",
    "    #numerator = 2 * np.asarray([y[1]*z[2] - y[2]*z[1], - x[1]*z[2] + x[2]*z[1], x[1]*y[2] - x[2]*y[1]])\n",
    "    numerator = (2 * (y[1]*z[2] - y[2]*z[1])) ** 2 + (2 * (- x[1]*z[2] + x[2]*z[1])) ** 2 + (2 * (x[1]*y[2] - x[2]*y[1])) ** 2\n",
    "    numerator = numerator ** (1./2.)\n",
    "    # numerator = np.linalg.norm(numerator)\n",
    "    def curve_func(t):\n",
    "        #return numerator / (np.linalg.norm(np.asarray([x[1] + 2*x[2] * t, y[1] + 2*y[2] * t, z[1] + 2*z[2] * t])) ** 3)\n",
    "        denominator = ((x[1] + 2*x[2] * t) ** 2 + (y[1] + 2*y[2] * t) ** 2 + (z[1] + 2*z[2] * t) ** 2) ** (3./2.)\n",
    "        return numerator / denominator\n",
    "    return curve_func"
   ]
  },
  {
   "cell_type": "code",
   "execution_count": null,
   "metadata": {},
   "outputs": [],
   "source": [
    "# Collect columns with chin \n",
    "# chin_base, chin_1_4, chin_mid, chin_3_4, chin_end\n",
    "chin_trial_df = example_trial.filter(regex='chin')\n",
    "chin_trial_arr = np.reshape(chin_trial_df.values, (chin_trial_df.values.shape[0], -1, 3))\n",
    "# Get bodypart names\n",
    "bp_names = []\n",
    "for col in chin_trial_df.columns:\n",
    "    if col[0] not in bp_names:\n",
    "        bp_names.append(col[0])"
   ]
  },
  {
   "cell_type": "code",
   "execution_count": 2,
   "metadata": {
    "tags": []
   },
   "outputs": [
    {
     "output_type": "error",
     "ename": "NameError",
     "evalue": "name 'chin_trial_arr' is not defined",
     "traceback": [
      "\u001b[0;31m---------------------------------------------------------------------------\u001b[0m",
      "\u001b[0;31mNameError\u001b[0m                                 Traceback (most recent call last)",
      "\u001b[0;32m<ipython-input-2-f6848336fae2>\u001b[0m in \u001b[0;36m<module>\u001b[0;34m\u001b[0m\n\u001b[1;32m      6\u001b[0m \u001b[0mpoly_coeffs\u001b[0m \u001b[0;34m=\u001b[0m \u001b[0;34m[\u001b[0m\u001b[0;34m]\u001b[0m\u001b[0;34m\u001b[0m\u001b[0;34m\u001b[0m\u001b[0m\n\u001b[1;32m      7\u001b[0m \u001b[0mnum_interp_points\u001b[0m \u001b[0;34m=\u001b[0m \u001b[0;36m20\u001b[0m\u001b[0;34m\u001b[0m\u001b[0;34m\u001b[0m\u001b[0m\n\u001b[0;32m----> 8\u001b[0;31m \u001b[0mprint\u001b[0m\u001b[0;34m(\u001b[0m\u001b[0;34m'chin_trial_arr: '\u001b[0m\u001b[0;34m,\u001b[0m \u001b[0mchin_trial_arr\u001b[0m\u001b[0;34m.\u001b[0m\u001b[0mshape\u001b[0m\u001b[0;34m)\u001b[0m\u001b[0;34m\u001b[0m\u001b[0;34m\u001b[0m\u001b[0m\n\u001b[0m\u001b[1;32m      9\u001b[0m \u001b[0;32mfor\u001b[0m \u001b[0mframe_idx\u001b[0m \u001b[0;32min\u001b[0m \u001b[0mtqdm\u001b[0m\u001b[0;34m(\u001b[0m\u001b[0mrange\u001b[0m\u001b[0;34m(\u001b[0m\u001b[0mstart_frame\u001b[0m\u001b[0;34m,\u001b[0m \u001b[0mchin_trial_arr\u001b[0m\u001b[0;34m.\u001b[0m\u001b[0mshape\u001b[0m\u001b[0;34m[\u001b[0m\u001b[0;36m0\u001b[0m\u001b[0;34m]\u001b[0m\u001b[0;34m)\u001b[0m\u001b[0;34m)\u001b[0m\u001b[0;34m:\u001b[0m\u001b[0;34m\u001b[0m\u001b[0;34m\u001b[0m\u001b[0m\n\u001b[1;32m     10\u001b[0m     \u001b[0mchin_frame_points\u001b[0m \u001b[0;34m=\u001b[0m \u001b[0mchin_trial_arr\u001b[0m\u001b[0;34m[\u001b[0m\u001b[0mframe_idx\u001b[0m\u001b[0;34m]\u001b[0m\u001b[0;34m\u001b[0m\u001b[0;34m\u001b[0m\u001b[0m\n",
      "\u001b[0;31mNameError\u001b[0m: name 'chin_trial_arr' is not defined"
     ]
    }
   ],
   "source": [
    "save_dir = Path(\"./spline_outputs\").resolve()\n",
    "save_dir.mkdir(exist_ok=True, parents=True)\n",
    "\n",
    "poly_degree = 2\n",
    "start_frame = 500\n",
    "poly_coeffs = []\n",
    "num_interp_points = 20\n",
    "print('chin_trial_arr: ', chin_trial_arr.shape)\n",
    "for frame_idx in tqdm(range(start_frame, chin_trial_arr.shape[0])):\n",
    "    chin_frame_points = chin_trial_arr[frame_idx]\n",
    "    # Normalize to 0,1 in each dimension\n",
    "    # Normalize x, y, z\n",
    "    for i in range(3):\n",
    "        chin_min = np.min(chin_frame_points[:, i])\n",
    "        chin_max = np.max(chin_frame_points[:, i])\n",
    "        chin_frame_points[:, i] = (chin_frame_points[:, i] - chin_min) / (chin_max - chin_min)\n",
    "    t = np.arange(chin_frame_points.shape[0])\n",
    "    ti = np.linspace(0, chin_frame_points.shape[0] - 1, num_interp_points)\n",
    "    x = chin_frame_points[:, 0]\n",
    "    y = chin_frame_points[:, 1]\n",
    "    z = chin_frame_points[:, 2]\n",
    "    \n",
    "    xi = np.linspace(np.min(x), np.max(x), num_interp_points)\n",
    "    yi = np.linspace(np.min(y), np.max(y), num_interp_points)\n",
    "\n",
    "    # rbfi = interpolate.Rbf(x, y, z)\n",
    "    # bvspline = interpolate.SmoothBivariateSpline(x, y, z, kx=2, ky=2)\n",
    "    # zi = rbfi(xi, yi)\n",
    "    # zi = bvspline(xi, yi)\n",
    "\n",
    "    fitx = np.polyfit(t, x, poly_degree)\n",
    "    fity = np.polyfit(t, y, poly_degree)\n",
    "    fitz = np.polyfit(t, z, poly_degree)\n",
    "    poly_coeffs.append([fitx, fity, fitz])    \n",
    "    \n",
    "\n",
    "    curvature_func = compute_curvature_function(fitx, fity, fitz)   \n",
    "    max_curve = -np.inf\n",
    "    for tii in t[1:]:\n",
    "        if curvature_func(tii) > max_curve:\n",
    "            max_curve = curvature_func(tii)\n",
    "            max_curve_idx = tii\n",
    "\n",
    "    xi = np.polyval(fitx, ti)\n",
    "    yi = np.polyval(fity, ti)\n",
    "    zi = np.polyval(fitz, ti)\n",
    "\n",
    "    x_curve = np.polyval(fitx, max_curve_idx)\n",
    "    y_curve = np.polyval(fity, max_curve_idx)\n",
    "    z_curve = np.polyval(fitz, max_curve_idx)\n",
    "\n",
    "    fig = plt.figure()\n",
    "    ax = fig.add_subplot(111, projection='3d')\n",
    "    ax.scatter(xs=xi, ys=yi, zs=zi)\n",
    "    ax.scatter(x, y, z)\n",
    "    ax.scatter(x_curve, y_curve, z_curve, c=\"r\")\n",
    "    ax.view_init(elev=-90, azim=-90)\n",
    "    ax.title.set_text(f\"$\\kappa$: {max_curve}\")\n",
    "\n",
    "    for i, txt in enumerate(range(chin_frame_points.shape[0])):\n",
    "        if 'base' in bp_names[i] or 'end' in bp_names[i]:\n",
    "            ax.text(x[i], y[i], z[i], bp_names[i])\n",
    "\n",
    "    ax.axes.set_xlim3d([0, 1])\n",
    "    ax.axes.set_ylim3d([0, 1])\n",
    "    ax.axes.set_zlim3d([0, 1])\n",
    "\n",
    "    ax.set_xlabel('$X$')\n",
    "    ax.set_ylabel('$Y$')\n",
    "    ax.set_zlabel('$Z$')\n",
    "    ax.xaxis.set_tick_params(labelsize=0)\n",
    "    ax.yaxis.set_tick_params(labelsize=0)\n",
    "    ax.zaxis.set_tick_params(labelsize=0)\n",
    "    ax.set_axis_off() \n",
    "    ax.set\n",
    "\n",
    "    fig.canvas.draw()\n",
    "    # Now we can save it to a numpy array.\n",
    "    chin_plot_image = np.frombuffer(fig.canvas.tostring_rgb(), dtype=np.uint8)\n",
    "    chin_plot_image = chin_plot_image.reshape(fig.canvas.get_width_height()[::-1] + (3,))\n",
    "    plt.close(\"all\")\n",
    "    video_frame = read_frame_at_idx(video_path, frame_idx)\n",
    "    # reproj_frame = read_frame_at_idx(reproj_path, frame_idx)\n",
    "    width = chin_plot_image.shape[1]\n",
    "    height = chin_plot_image.shape[0]\n",
    "    dim = (width, height)\n",
    "    #vis = np.concatenate((chin_plot_image, cv2.resize(video_frame, dim), cv2.resize(reproj_frame, dim)), axis=1)\n",
    "    vis = np.concatenate((chin_plot_image, cv2.resize(video_frame, dim)), axis=1)\n",
    "    cv2.imwrite(str(save_dir / f\"frame_{frame_idx}.png\"), vis)\n",
    "poly_coeffs = np.asarray(poly_coeffs)\n",
    "\n"
   ]
  },
  {
   "cell_type": "code",
   "execution_count": 4,
   "metadata": {},
   "outputs": [],
   "source": [
    "write_video(image_dir=str(save_dir), out_file=\"chin_movie_3.mov\", fps=50)"
   ]
  },
  {
   "cell_type": "code",
   "execution_count": null,
   "metadata": {},
   "outputs": [],
   "source": []
  }
 ]
}
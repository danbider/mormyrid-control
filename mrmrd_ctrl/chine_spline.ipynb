{
 "metadata": {
  "language_info": {
   "codemirror_mode": {
    "name": "ipython",
    "version": 3
   },
   "file_extension": ".py",
   "mimetype": "text/x-python",
   "name": "python",
   "nbconvert_exporter": "python",
   "pygments_lexer": "ipython3",
   "version": "3.9.5"
  },
  "orig_nbformat": 2,
  "kernelspec": {
   "name": "python395jvsc74a57bd091a22105721b5fa3681a6a510c981cc50bf9387d638e9a4ce953c71596a0863e",
   "display_name": "Python 3.9.5 64-bit ('mormyrid-control': conda)"
  }
 },
 "nbformat": 4,
 "nbformat_minor": 2,
 "cells": [
  {
   "cell_type": "code",
   "execution_count": 1,
   "metadata": {},
   "outputs": [],
   "source": [
    "# https://stackoverflow.com/questions/45350891/fitting-a-polynomial-using-np-polyfit-in-3-dimensions\n"
   ]
  },
  {
   "cell_type": "code",
   "execution_count": 1,
   "metadata": {},
   "outputs": [],
   "source": [
    "%matplotlib qt\n",
    "from utils.utils_IO import load_object\n",
    "import numpy as np\n",
    "import matplotlib.pyplot as plt\n",
    "from mpl_toolkits.mplot3d import Axes3D\n",
    "from scipy import interpolate"
   ]
  },
  {
   "cell_type": "code",
   "execution_count": 3,
   "metadata": {},
   "outputs": [],
   "source": [
    "data_dict = load_object('/Volumes/sawtell-locker/C1/free/3d_reconstruction/V2/data_dict')"
   ]
  },
  {
   "cell_type": "code",
   "execution_count": 4,
   "metadata": {},
   "outputs": [
    {
     "output_type": "stream",
     "name": "stdout",
     "text": [
      "data_dict:  dict_keys(['trials', 'inds', 'points_3d_paths', 'video_paths'])\n"
     ]
    }
   ],
   "source": [
    "print('data_dict: ', data_dict.keys())"
   ]
  },
  {
   "cell_type": "code",
   "execution_count": 5,
   "metadata": {},
   "outputs": [],
   "source": [
    "example_trial = data_dict[\"trials\"][\"Joao\"][\"pre\"][0]"
   ]
  },
  {
   "cell_type": "code",
   "execution_count": 6,
   "metadata": {},
   "outputs": [],
   "source": [
    "# chin_base, chin_1_4, chin_mid, chin_3_4, chin_end\n",
    "chin_trial_df = example_trial.filter(regex='chin')\n",
    "chin_trial_arr = np.reshape(chin_trial_df.values, (chin_trial_df.values.shape[0], -1, 3))\n",
    "# Get bodypart names\n",
    "bp_names = []\n",
    "for col in chin_trial_df.columns:\n",
    "    if col[0] not in bp_names:\n",
    "        bp_names.append(col[0])"
   ]
  },
  {
   "cell_type": "code",
   "execution_count": 9,
   "metadata": {},
   "outputs": [],
   "source": [
    "poly_degree = 3\n",
    "start_frame = 500\n",
    "for frame_idx in range(start_frame, chin_trial_arr.shape[0]):\n",
    "    chin_frame_points = chin_trial_arr[frame_idx]\n",
    "    t = np.arange(chin_frame_points.shape[0])\n",
    "    ti = np.linspace(0, chin_frame_points.shape[0] - 1, 100)\n",
    "    x = chin_frame_points[:, 0]\n",
    "    y = chin_frame_points[:, 1]\n",
    "    z = chin_frame_points[:, 2]\n",
    "    \n",
    "    xi = np.linspace(np.min(x), np.max(x), 100)\n",
    "    yi = np.linspace(np.min(y), np.max(y), 100)\n",
    "\n",
    "    # rbfi = interpolate.Rbf(x, y, z)\n",
    "    # bvspline = interpolate.SmoothBivariateSpline(x, y, z, kx=2, ky=2)\n",
    "    # zi = rbfi(xi, yi)\n",
    "    # zi = bvspline(xi, yi)\n",
    "\n",
    "    fitx = np.polyfit(t, x, poly_degree)\n",
    "    fity = np.polyfit(t, y, poly_degree)\n",
    "    fitz = np.polyfit(t, z, poly_degree)\n",
    "\n",
    "    xi = np.polyval(fitx, ti)\n",
    "    yi = np.polyval(fity, ti)\n",
    "    zi = np.polyval(fitz, ti)\n",
    "    \n",
    "    fig = plt.figure()\n",
    "    ax = fig.add_subplot(111, projection='3d')\n",
    "    ax.plot(xs=xi, ys=yi, zs=zi)\n",
    "    ax.scatter(x, y, z)\n",
    "    for i, txt in enumerate(range(chin_frame_points.shape[0])):\n",
    "        ax.text(x[i], y[i], z[i], bp_names[i])\n",
    "\n",
    "    break\n",
    "    if frame_idx == start_frame + 5:\n",
    "        break"
   ]
  },
  {
   "cell_type": "code",
   "execution_count": null,
   "metadata": {},
   "outputs": [],
   "source": []
  },
  {
   "cell_type": "code",
   "execution_count": null,
   "metadata": {},
   "outputs": [],
   "source": []
  }
 ]
}
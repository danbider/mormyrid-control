{
 "cells": [
  {
   "cell_type": "code",
   "execution_count": 1,
   "id": "different-trade",
   "metadata": {},
   "outputs": [],
   "source": [
    "import plotly.express as px\n",
    "import pandas as pd\n",
    "import numpy as np"
   ]
  },
  {
   "cell_type": "code",
   "execution_count": 2,
   "id": "collectible-humanitarian",
   "metadata": {},
   "outputs": [],
   "source": [
    "df = pd.read_csv(\"../summaries/curvature_dframe.csv\", header= [0, 1], index_col=[0,1,2])"
   ]
  },
  {
   "cell_type": "code",
   "execution_count": 3,
   "id": "hawaiian-mustang",
   "metadata": {},
   "outputs": [
    {
     "data": {
      "text/html": [
       "<div>\n",
       "<style scoped>\n",
       "    .dataframe tbody tr th:only-of-type {\n",
       "        vertical-align: middle;\n",
       "    }\n",
       "\n",
       "    .dataframe tbody tr th {\n",
       "        vertical-align: top;\n",
       "    }\n",
       "\n",
       "    .dataframe thead tr th {\n",
       "        text-align: left;\n",
       "    }\n",
       "\n",
       "    .dataframe thead tr:last-of-type th {\n",
       "        text-align: right;\n",
       "    }\n",
       "</style>\n",
       "<table border=\"1\" class=\"dataframe\">\n",
       "  <thead>\n",
       "    <tr>\n",
       "      <th></th>\n",
       "      <th></th>\n",
       "      <th>metric</th>\n",
       "      <th colspan=\"3\" halign=\"left\">curvature</th>\n",
       "      <th colspan=\"3\" halign=\"left\">second_order_coeff_x</th>\n",
       "      <th colspan=\"3\" halign=\"left\">second_order_coeff_y</th>\n",
       "      <th colspan=\"3\" halign=\"left\">second_order_coeff_z</th>\n",
       "    </tr>\n",
       "    <tr>\n",
       "      <th></th>\n",
       "      <th></th>\n",
       "      <th>summary</th>\n",
       "      <th>median</th>\n",
       "      <th>low</th>\n",
       "      <th>high</th>\n",
       "      <th>median</th>\n",
       "      <th>low</th>\n",
       "      <th>high</th>\n",
       "      <th>median</th>\n",
       "      <th>low</th>\n",
       "      <th>high</th>\n",
       "      <th>median</th>\n",
       "      <th>low</th>\n",
       "      <th>high</th>\n",
       "    </tr>\n",
       "    <tr>\n",
       "      <th>fish</th>\n",
       "      <th>date</th>\n",
       "      <th>condition</th>\n",
       "      <th></th>\n",
       "      <th></th>\n",
       "      <th></th>\n",
       "      <th></th>\n",
       "      <th></th>\n",
       "      <th></th>\n",
       "      <th></th>\n",
       "      <th></th>\n",
       "      <th></th>\n",
       "      <th></th>\n",
       "      <th></th>\n",
       "      <th></th>\n",
       "    </tr>\n",
       "  </thead>\n",
       "  <tbody>\n",
       "    <tr>\n",
       "      <th rowspan=\"5\" valign=\"top\">Fred</th>\n",
       "      <th rowspan=\"2\" valign=\"top\">2020-09-23</th>\n",
       "      <th>floor</th>\n",
       "      <td>8.518469</td>\n",
       "      <td>5.532540</td>\n",
       "      <td>13.886612</td>\n",
       "      <td>-0.000228</td>\n",
       "      <td>-0.000471</td>\n",
       "      <td>0.000094</td>\n",
       "      <td>0.000158</td>\n",
       "      <td>-0.000109</td>\n",
       "      <td>0.000369</td>\n",
       "      <td>-1.504932e-04</td>\n",
       "      <td>-0.000522</td>\n",
       "      <td>0.000145</td>\n",
       "    </tr>\n",
       "    <tr>\n",
       "      <th>well</th>\n",
       "      <td>NaN</td>\n",
       "      <td>NaN</td>\n",
       "      <td>NaN</td>\n",
       "      <td>NaN</td>\n",
       "      <td>NaN</td>\n",
       "      <td>NaN</td>\n",
       "      <td>NaN</td>\n",
       "      <td>NaN</td>\n",
       "      <td>NaN</td>\n",
       "      <td>NaN</td>\n",
       "      <td>NaN</td>\n",
       "      <td>NaN</td>\n",
       "    </tr>\n",
       "    <tr>\n",
       "      <th rowspan=\"2\" valign=\"top\">2020-09-25</th>\n",
       "      <th>floor</th>\n",
       "      <td>8.606701</td>\n",
       "      <td>4.782352</td>\n",
       "      <td>15.755039</td>\n",
       "      <td>-0.000152</td>\n",
       "      <td>-0.000341</td>\n",
       "      <td>0.000088</td>\n",
       "      <td>0.000044</td>\n",
       "      <td>-0.000194</td>\n",
       "      <td>0.000238</td>\n",
       "      <td>-4.686214e-05</td>\n",
       "      <td>-0.000318</td>\n",
       "      <td>0.000170</td>\n",
       "    </tr>\n",
       "    <tr>\n",
       "      <th>well</th>\n",
       "      <td>NaN</td>\n",
       "      <td>NaN</td>\n",
       "      <td>NaN</td>\n",
       "      <td>NaN</td>\n",
       "      <td>NaN</td>\n",
       "      <td>NaN</td>\n",
       "      <td>NaN</td>\n",
       "      <td>NaN</td>\n",
       "      <td>NaN</td>\n",
       "      <td>NaN</td>\n",
       "      <td>NaN</td>\n",
       "      <td>NaN</td>\n",
       "    </tr>\n",
       "    <tr>\n",
       "      <th>2020-09-27</th>\n",
       "      <th>floor</th>\n",
       "      <td>9.808012</td>\n",
       "      <td>5.366892</td>\n",
       "      <td>18.807091</td>\n",
       "      <td>-0.000181</td>\n",
       "      <td>-0.000411</td>\n",
       "      <td>0.000154</td>\n",
       "      <td>0.000075</td>\n",
       "      <td>-0.000165</td>\n",
       "      <td>0.000301</td>\n",
       "      <td>1.663981e-07</td>\n",
       "      <td>-0.000242</td>\n",
       "      <td>0.000185</td>\n",
       "    </tr>\n",
       "  </tbody>\n",
       "</table>\n",
       "</div>"
      ],
      "text/plain": [
       "metric                    curvature                      second_order_coeff_x  \\\n",
       "summary                      median       low       high               median   \n",
       "fish date       condition                                                       \n",
       "Fred 2020-09-23 floor      8.518469  5.532540  13.886612            -0.000228   \n",
       "                well            NaN       NaN        NaN                  NaN   \n",
       "     2020-09-25 floor      8.606701  4.782352  15.755039            -0.000152   \n",
       "                well            NaN       NaN        NaN                  NaN   \n",
       "     2020-09-27 floor      9.808012  5.366892  18.807091            -0.000181   \n",
       "\n",
       "metric                                        second_order_coeff_y            \\\n",
       "summary                         low      high               median       low   \n",
       "fish date       condition                                                      \n",
       "Fred 2020-09-23 floor     -0.000471  0.000094             0.000158 -0.000109   \n",
       "                well            NaN       NaN                  NaN       NaN   \n",
       "     2020-09-25 floor     -0.000341  0.000088             0.000044 -0.000194   \n",
       "                well            NaN       NaN                  NaN       NaN   \n",
       "     2020-09-27 floor     -0.000411  0.000154             0.000075 -0.000165   \n",
       "\n",
       "metric                              second_order_coeff_z                      \n",
       "summary                        high               median       low      high  \n",
       "fish date       condition                                                     \n",
       "Fred 2020-09-23 floor      0.000369        -1.504932e-04 -0.000522  0.000145  \n",
       "                well            NaN                  NaN       NaN       NaN  \n",
       "     2020-09-25 floor      0.000238        -4.686214e-05 -0.000318  0.000170  \n",
       "                well            NaN                  NaN       NaN       NaN  \n",
       "     2020-09-27 floor      0.000301         1.663981e-07 -0.000242  0.000185  "
      ]
     },
     "execution_count": 3,
     "metadata": {},
     "output_type": "execute_result"
    }
   ],
   "source": [
    "df.head()"
   ]
  },
  {
   "cell_type": "code",
   "execution_count": 4,
   "id": "brown-standing",
   "metadata": {},
   "outputs": [],
   "source": [
    "df = df.reset_index([0,1,2])\n",
    "df_selected = df.loc[:, [\"fish\", \"date\", \"condition\", \"curvature\"]]\n",
    "df_selected = df_selected.droplevel(\"summary\", axis = 1)\n",
    "df_selected.columns =  [\"fish\", \"date\", \"condition\", \"median\", \"low\", \"high\"]\n",
    "df = df_selected.melt(id_vars = [\"fish\", \"date\", \"condition\"], var_name = \"summary\", value_name = \"curvature\")"
   ]
  },
  {
   "cell_type": "code",
   "execution_count": 17,
   "id": "athletic-crawford",
   "metadata": {},
   "outputs": [
    {
     "data": {
      "text/plain": [
       "array([-5, -4, -3, -2, -1,  1,  2,  3,  4,  5])"
      ]
     },
     "execution_count": 17,
     "metadata": {},
     "output_type": "execute_result"
    }
   ],
   "source": []
  },
  {
   "cell_type": "code",
   "execution_count": 21,
   "id": "prepared-enforcement",
   "metadata": {},
   "outputs": [],
   "source": [
    "# add session instead of date\n",
    "df[\"session_to_lesion\"] = np.nan\n",
    "df = df.sort_values(by=[\"fish\",\"date\"])\n",
    "unique_fish = pd.unique(df.fish)\n",
    "concat_ind = np.concatenate([np.arange(-5, 0), np.arange(1, 6)])\n",
    "for f in unique_fish:\n",
    "    dates = pd.unique(df.loc[df.fish == f, \"date\"]) # assuming these are sorted! careful\n",
    "    #inds = np.arange(len(dates))\n",
    "    for i, d in enumerate(dates):\n",
    "        df.loc[(df.fish == f) & (df.date == d), \"session_to_lesion\"] = np.repeat(concat_ind[i], len(pd.unique(df.condition)) * len(pd.unique(df.summary)))\n"
   ]
  },
  {
   "cell_type": "code",
   "execution_count": 22,
   "id": "expected-commander",
   "metadata": {},
   "outputs": [],
   "source": [
    "df['lesion_type'] = df[\"fish\"].apply(lambda x: 'sham' if x in [\"Greg\", \"Lazy\", \"Omar\"] else 'lesion')"
   ]
  },
  {
   "cell_type": "code",
   "execution_count": 23,
   "id": "breeding-investing",
   "metadata": {},
   "outputs": [
    {
     "data": {
      "application/vnd.plotly.v1+json": {
       "config": {
        "plotlyServerURL": "https://plot.ly"
       },
       "data": [
        {
         "alignmentgroup": "True",
         "boxpoints": "all",
         "hovertemplate": "lesion_type=lesion<br>condition=floor<br>session_to_lesion=%{x}<br>curvature=%{y}<extra></extra>",
         "legendgroup": "lesion",
         "marker": {
          "color": "#636efa"
         },
         "name": "lesion",
         "notched": false,
         "offsetgroup": "lesion",
         "orientation": "v",
         "showlegend": true,
         "type": "box",
         "x": [
          -5,
          -4,
          -3,
          -2,
          -1,
          -5,
          -4,
          -3,
          -2,
          -1,
          1,
          2,
          3,
          4,
          5,
          -5,
          -4,
          -3,
          -2,
          -1,
          1,
          2,
          3,
          4,
          5,
          -5,
          -4,
          -3,
          -2,
          -1,
          1,
          2,
          3,
          4,
          5,
          -5,
          -4,
          -3,
          -2,
          -1,
          1,
          2,
          3,
          4,
          5,
          -5,
          -4,
          -3,
          -2,
          -1,
          1,
          2,
          3,
          4,
          5,
          -5,
          -4,
          -3,
          -2,
          -1,
          1,
          2,
          3,
          4,
          5,
          -5,
          -4,
          -3,
          -2,
          -1,
          1,
          2,
          3,
          4,
          5
         ],
         "x0": " ",
         "xaxis": "x",
         "y": [
          8.518469066826192,
          8.60670143728965,
          9.808012373225337,
          11.111780836532482,
          7.40324972524609,
          16.5355375889892,
          18.27247365380768,
          17.634317775222296,
          19.534399361860228,
          19.56814692406932,
          14.008190095774506,
          null,
          8.029835470182292,
          13.583309928568308,
          null,
          18.57947473223017,
          18.43216746812609,
          18.797852872321307,
          19.53378854746374,
          22.87806454497248,
          10.91553545849284,
          8.795811793286173,
          10.79151925215712,
          12.23154641237886,
          9.204597789592746,
          13.245314398590876,
          16.200752175376586,
          12.46822982765564,
          14.757096029994528,
          16.59886964104729,
          null,
          11.795302485546149,
          13.986933965001445,
          12.671425946917203,
          13.396770201094188,
          13.152001553150484,
          17.90277002061587,
          20.84845925211793,
          15.319673805578237,
          15.619458496098227,
          null,
          6.774142687782517,
          7.62228373683905,
          10.36699864721034,
          5.3979727161207,
          14.3736693694795,
          13.014250161387857,
          14.639205147366566,
          11.979060958386864,
          14.616478602605904,
          8.154634041651445,
          7.438190474286952,
          8.370982528396347,
          7.425231748340733,
          6.875949225302621,
          20.463022756895462,
          20.882955986947167,
          20.899866865775845,
          19.53594371028648,
          23.81551506839912,
          7.01702313685135,
          8.257353105358835,
          7.588534536688732,
          9.926805368088006,
          7.969208409531197,
          16.78637476498488,
          16.689042640855387,
          12.753959981740504,
          12.316165879983052,
          17.93232398449912,
          8.288650061590742,
          9.0160239890911,
          9.381897504452189,
          10.553561749224023,
          9.835656114482909
         ],
         "y0": " ",
         "yaxis": "y"
        },
        {
         "alignmentgroup": "True",
         "boxpoints": "all",
         "hovertemplate": "lesion_type=lesion<br>condition=well<br>session_to_lesion=%{x}<br>curvature=%{y}<extra></extra>",
         "legendgroup": "lesion",
         "marker": {
          "color": "#636efa"
         },
         "name": "lesion",
         "notched": false,
         "offsetgroup": "lesion",
         "orientation": "v",
         "showlegend": false,
         "type": "box",
         "x": [
          -5,
          -4,
          -3,
          -2,
          -1,
          -5,
          -4,
          -3,
          -2,
          -1,
          1,
          2,
          3,
          4,
          5,
          -5,
          -4,
          -3,
          -2,
          -1,
          1,
          2,
          3,
          4,
          5,
          -5,
          -4,
          -3,
          -2,
          -1,
          1,
          2,
          3,
          4,
          5,
          -5,
          -4,
          -3,
          -2,
          -1,
          1,
          2,
          3,
          4,
          5,
          -5,
          -4,
          -3,
          -2,
          -1,
          1,
          2,
          3,
          4,
          5,
          -5,
          -4,
          -3,
          -2,
          -1,
          1,
          2,
          3,
          4,
          5,
          -5,
          -4,
          -3,
          -2,
          -1,
          1,
          2,
          3,
          4,
          5
         ],
         "x0": " ",
         "xaxis": "x2",
         "y": [
          null,
          null,
          null,
          null,
          null,
          12.07606869521296,
          14.342182337183624,
          12.95383626120786,
          15.54973117480369,
          14.40265705715044,
          9.951227609329276,
          12.56521752967228,
          10.770428746821292,
          10.971853986274793,
          10.525513697321712,
          15.80893408319172,
          16.63881680269722,
          16.308313823137745,
          18.07319576973389,
          19.906475520971217,
          8.370472557926679,
          9.413995636652478,
          8.024784441055317,
          11.91081488853677,
          10.815640368987726,
          16.262056225907898,
          15.641674109436137,
          14.340493766373012,
          16.00741596603697,
          14.208319340341236,
          12.048304923755724,
          10.699373778442675,
          null,
          9.5687647784378,
          null,
          12.564119360673615,
          11.255669203902231,
          14.165869216989346,
          12.452976335312878,
          11.82925937781835,
          8.703734507119924,
          7.852637657264758,
          7.202792460291224,
          8.09671827872149,
          6.184292411134411,
          16.779501839294383,
          15.707063533319271,
          13.40810299634628,
          14.156803725181987,
          14.753427699130434,
          7.699641412141703,
          9.592605737493631,
          8.382732117768612,
          9.166076707100878,
          7.637281583060721,
          16.940149989118012,
          15.145287657589067,
          16.165961443669392,
          16.99082882124089,
          17.025293357179883,
          8.316758456468934,
          10.876029132337807,
          14.311323819329102,
          8.260727381299981,
          10.612996369940907,
          13.55984323063615,
          12.964830562233566,
          12.662198443540063,
          11.917428855706651,
          17.566823915957663,
          null,
          8.577433495892008,
          11.74118854042738,
          10.452815714307109,
          10.940391561711184
         ],
         "y0": " ",
         "yaxis": "y2"
        },
        {
         "alignmentgroup": "True",
         "boxpoints": "all",
         "hovertemplate": "lesion_type=sham<br>condition=floor<br>session_to_lesion=%{x}<br>curvature=%{y}<extra></extra>",
         "legendgroup": "sham",
         "marker": {
          "color": "#EF553B"
         },
         "name": "sham",
         "notched": false,
         "offsetgroup": "sham",
         "orientation": "v",
         "showlegend": true,
         "type": "box",
         "x": [
          -5,
          -4,
          -3,
          -2,
          -1,
          1,
          2,
          3,
          4,
          5,
          -5,
          -4,
          -3,
          -2,
          -1,
          1,
          2,
          3,
          4,
          5,
          -5,
          -4,
          -3,
          -2,
          -1,
          1,
          2,
          3,
          4,
          5
         ],
         "x0": " ",
         "xaxis": "x",
         "y": [
          13.613644969517832,
          11.122135543775574,
          11.514228790219695,
          11.358897502660673,
          13.330583123466,
          10.187438384227882,
          10.97913649867937,
          13.645997692357945,
          12.688274913075816,
          9.963461013171596,
          11.531588763144065,
          9.236390279668898,
          9.141129624410771,
          10.205237502845058,
          10.09930297036044,
          null,
          8.14439616785547,
          7.468905799078346,
          6.762374153587004,
          5.349509561569093,
          10.516845268948334,
          10.032555960998,
          null,
          10.30447963500824,
          10.276326366818733,
          9.88016281341845,
          10.23946041354858,
          10.739125612614606,
          11.312219050530905,
          11.090042140292198
         ],
         "y0": " ",
         "yaxis": "y"
        },
        {
         "alignmentgroup": "True",
         "boxpoints": "all",
         "hovertemplate": "lesion_type=sham<br>condition=well<br>session_to_lesion=%{x}<br>curvature=%{y}<extra></extra>",
         "legendgroup": "sham",
         "marker": {
          "color": "#EF553B"
         },
         "name": "sham",
         "notched": false,
         "offsetgroup": "sham",
         "orientation": "v",
         "showlegend": false,
         "type": "box",
         "x": [
          -5,
          -4,
          -3,
          -2,
          -1,
          1,
          2,
          3,
          4,
          5,
          -5,
          -4,
          -3,
          -2,
          -1,
          1,
          2,
          3,
          4,
          5,
          -5,
          -4,
          -3,
          -2,
          -1,
          1,
          2,
          3,
          4,
          5
         ],
         "x0": " ",
         "xaxis": "x2",
         "y": [
          11.289269200048873,
          12.142605939664032,
          10.343449454251076,
          10.697666830442552,
          12.47973810821582,
          11.359497507713195,
          8.911168554809125,
          12.490906526875444,
          10.204159094342222,
          11.84324218110896,
          12.77800243305012,
          13.795820805521592,
          9.9838822432697,
          12.983396671540005,
          9.708283810486646,
          8.641192869115198,
          8.2723968184093,
          null,
          null,
          null,
          10.413796231040044,
          9.921660316858995,
          12.14216454469037,
          15.329618702272596,
          11.477975056239456,
          null,
          9.77223654223001,
          10.256618592053693,
          10.68531364062142,
          10.751605239657776
         ],
         "y0": " ",
         "yaxis": "y2"
        }
       ],
       "layout": {
        "annotations": [
         {
          "font": {},
          "showarrow": false,
          "text": "condition=floor",
          "x": 0.245,
          "xanchor": "center",
          "xref": "paper",
          "y": 1,
          "yanchor": "bottom",
          "yref": "paper"
         },
         {
          "font": {},
          "showarrow": false,
          "text": "condition=well",
          "x": 0.755,
          "xanchor": "center",
          "xref": "paper",
          "y": 1,
          "yanchor": "bottom",
          "yref": "paper"
         }
        ],
        "boxmode": "group",
        "legend": {
         "title": {
          "text": "lesion_type"
         },
         "tracegroupgap": 0
        },
        "margin": {
         "t": 60
        },
        "template": {
         "data": {
          "bar": [
           {
            "error_x": {
             "color": "#2a3f5f"
            },
            "error_y": {
             "color": "#2a3f5f"
            },
            "marker": {
             "line": {
              "color": "#E5ECF6",
              "width": 0.5
             },
             "pattern": {
              "fillmode": "overlay",
              "size": 10,
              "solidity": 0.2
             }
            },
            "type": "bar"
           }
          ],
          "barpolar": [
           {
            "marker": {
             "line": {
              "color": "#E5ECF6",
              "width": 0.5
             },
             "pattern": {
              "fillmode": "overlay",
              "size": 10,
              "solidity": 0.2
             }
            },
            "type": "barpolar"
           }
          ],
          "carpet": [
           {
            "aaxis": {
             "endlinecolor": "#2a3f5f",
             "gridcolor": "white",
             "linecolor": "white",
             "minorgridcolor": "white",
             "startlinecolor": "#2a3f5f"
            },
            "baxis": {
             "endlinecolor": "#2a3f5f",
             "gridcolor": "white",
             "linecolor": "white",
             "minorgridcolor": "white",
             "startlinecolor": "#2a3f5f"
            },
            "type": "carpet"
           }
          ],
          "choropleth": [
           {
            "colorbar": {
             "outlinewidth": 0,
             "ticks": ""
            },
            "type": "choropleth"
           }
          ],
          "contour": [
           {
            "colorbar": {
             "outlinewidth": 0,
             "ticks": ""
            },
            "colorscale": [
             [
              0,
              "#0d0887"
             ],
             [
              0.1111111111111111,
              "#46039f"
             ],
             [
              0.2222222222222222,
              "#7201a8"
             ],
             [
              0.3333333333333333,
              "#9c179e"
             ],
             [
              0.4444444444444444,
              "#bd3786"
             ],
             [
              0.5555555555555556,
              "#d8576b"
             ],
             [
              0.6666666666666666,
              "#ed7953"
             ],
             [
              0.7777777777777778,
              "#fb9f3a"
             ],
             [
              0.8888888888888888,
              "#fdca26"
             ],
             [
              1,
              "#f0f921"
             ]
            ],
            "type": "contour"
           }
          ],
          "contourcarpet": [
           {
            "colorbar": {
             "outlinewidth": 0,
             "ticks": ""
            },
            "type": "contourcarpet"
           }
          ],
          "heatmap": [
           {
            "colorbar": {
             "outlinewidth": 0,
             "ticks": ""
            },
            "colorscale": [
             [
              0,
              "#0d0887"
             ],
             [
              0.1111111111111111,
              "#46039f"
             ],
             [
              0.2222222222222222,
              "#7201a8"
             ],
             [
              0.3333333333333333,
              "#9c179e"
             ],
             [
              0.4444444444444444,
              "#bd3786"
             ],
             [
              0.5555555555555556,
              "#d8576b"
             ],
             [
              0.6666666666666666,
              "#ed7953"
             ],
             [
              0.7777777777777778,
              "#fb9f3a"
             ],
             [
              0.8888888888888888,
              "#fdca26"
             ],
             [
              1,
              "#f0f921"
             ]
            ],
            "type": "heatmap"
           }
          ],
          "heatmapgl": [
           {
            "colorbar": {
             "outlinewidth": 0,
             "ticks": ""
            },
            "colorscale": [
             [
              0,
              "#0d0887"
             ],
             [
              0.1111111111111111,
              "#46039f"
             ],
             [
              0.2222222222222222,
              "#7201a8"
             ],
             [
              0.3333333333333333,
              "#9c179e"
             ],
             [
              0.4444444444444444,
              "#bd3786"
             ],
             [
              0.5555555555555556,
              "#d8576b"
             ],
             [
              0.6666666666666666,
              "#ed7953"
             ],
             [
              0.7777777777777778,
              "#fb9f3a"
             ],
             [
              0.8888888888888888,
              "#fdca26"
             ],
             [
              1,
              "#f0f921"
             ]
            ],
            "type": "heatmapgl"
           }
          ],
          "histogram": [
           {
            "marker": {
             "pattern": {
              "fillmode": "overlay",
              "size": 10,
              "solidity": 0.2
             }
            },
            "type": "histogram"
           }
          ],
          "histogram2d": [
           {
            "colorbar": {
             "outlinewidth": 0,
             "ticks": ""
            },
            "colorscale": [
             [
              0,
              "#0d0887"
             ],
             [
              0.1111111111111111,
              "#46039f"
             ],
             [
              0.2222222222222222,
              "#7201a8"
             ],
             [
              0.3333333333333333,
              "#9c179e"
             ],
             [
              0.4444444444444444,
              "#bd3786"
             ],
             [
              0.5555555555555556,
              "#d8576b"
             ],
             [
              0.6666666666666666,
              "#ed7953"
             ],
             [
              0.7777777777777778,
              "#fb9f3a"
             ],
             [
              0.8888888888888888,
              "#fdca26"
             ],
             [
              1,
              "#f0f921"
             ]
            ],
            "type": "histogram2d"
           }
          ],
          "histogram2dcontour": [
           {
            "colorbar": {
             "outlinewidth": 0,
             "ticks": ""
            },
            "colorscale": [
             [
              0,
              "#0d0887"
             ],
             [
              0.1111111111111111,
              "#46039f"
             ],
             [
              0.2222222222222222,
              "#7201a8"
             ],
             [
              0.3333333333333333,
              "#9c179e"
             ],
             [
              0.4444444444444444,
              "#bd3786"
             ],
             [
              0.5555555555555556,
              "#d8576b"
             ],
             [
              0.6666666666666666,
              "#ed7953"
             ],
             [
              0.7777777777777778,
              "#fb9f3a"
             ],
             [
              0.8888888888888888,
              "#fdca26"
             ],
             [
              1,
              "#f0f921"
             ]
            ],
            "type": "histogram2dcontour"
           }
          ],
          "mesh3d": [
           {
            "colorbar": {
             "outlinewidth": 0,
             "ticks": ""
            },
            "type": "mesh3d"
           }
          ],
          "parcoords": [
           {
            "line": {
             "colorbar": {
              "outlinewidth": 0,
              "ticks": ""
             }
            },
            "type": "parcoords"
           }
          ],
          "pie": [
           {
            "automargin": true,
            "type": "pie"
           }
          ],
          "scatter": [
           {
            "marker": {
             "colorbar": {
              "outlinewidth": 0,
              "ticks": ""
             }
            },
            "type": "scatter"
           }
          ],
          "scatter3d": [
           {
            "line": {
             "colorbar": {
              "outlinewidth": 0,
              "ticks": ""
             }
            },
            "marker": {
             "colorbar": {
              "outlinewidth": 0,
              "ticks": ""
             }
            },
            "type": "scatter3d"
           }
          ],
          "scattercarpet": [
           {
            "marker": {
             "colorbar": {
              "outlinewidth": 0,
              "ticks": ""
             }
            },
            "type": "scattercarpet"
           }
          ],
          "scattergeo": [
           {
            "marker": {
             "colorbar": {
              "outlinewidth": 0,
              "ticks": ""
             }
            },
            "type": "scattergeo"
           }
          ],
          "scattergl": [
           {
            "marker": {
             "colorbar": {
              "outlinewidth": 0,
              "ticks": ""
             }
            },
            "type": "scattergl"
           }
          ],
          "scattermapbox": [
           {
            "marker": {
             "colorbar": {
              "outlinewidth": 0,
              "ticks": ""
             }
            },
            "type": "scattermapbox"
           }
          ],
          "scatterpolar": [
           {
            "marker": {
             "colorbar": {
              "outlinewidth": 0,
              "ticks": ""
             }
            },
            "type": "scatterpolar"
           }
          ],
          "scatterpolargl": [
           {
            "marker": {
             "colorbar": {
              "outlinewidth": 0,
              "ticks": ""
             }
            },
            "type": "scatterpolargl"
           }
          ],
          "scatterternary": [
           {
            "marker": {
             "colorbar": {
              "outlinewidth": 0,
              "ticks": ""
             }
            },
            "type": "scatterternary"
           }
          ],
          "surface": [
           {
            "colorbar": {
             "outlinewidth": 0,
             "ticks": ""
            },
            "colorscale": [
             [
              0,
              "#0d0887"
             ],
             [
              0.1111111111111111,
              "#46039f"
             ],
             [
              0.2222222222222222,
              "#7201a8"
             ],
             [
              0.3333333333333333,
              "#9c179e"
             ],
             [
              0.4444444444444444,
              "#bd3786"
             ],
             [
              0.5555555555555556,
              "#d8576b"
             ],
             [
              0.6666666666666666,
              "#ed7953"
             ],
             [
              0.7777777777777778,
              "#fb9f3a"
             ],
             [
              0.8888888888888888,
              "#fdca26"
             ],
             [
              1,
              "#f0f921"
             ]
            ],
            "type": "surface"
           }
          ],
          "table": [
           {
            "cells": {
             "fill": {
              "color": "#EBF0F8"
             },
             "line": {
              "color": "white"
             }
            },
            "header": {
             "fill": {
              "color": "#C8D4E3"
             },
             "line": {
              "color": "white"
             }
            },
            "type": "table"
           }
          ]
         },
         "layout": {
          "annotationdefaults": {
           "arrowcolor": "#2a3f5f",
           "arrowhead": 0,
           "arrowwidth": 1
          },
          "autotypenumbers": "strict",
          "coloraxis": {
           "colorbar": {
            "outlinewidth": 0,
            "ticks": ""
           }
          },
          "colorscale": {
           "diverging": [
            [
             0,
             "#8e0152"
            ],
            [
             0.1,
             "#c51b7d"
            ],
            [
             0.2,
             "#de77ae"
            ],
            [
             0.3,
             "#f1b6da"
            ],
            [
             0.4,
             "#fde0ef"
            ],
            [
             0.5,
             "#f7f7f7"
            ],
            [
             0.6,
             "#e6f5d0"
            ],
            [
             0.7,
             "#b8e186"
            ],
            [
             0.8,
             "#7fbc41"
            ],
            [
             0.9,
             "#4d9221"
            ],
            [
             1,
             "#276419"
            ]
           ],
           "sequential": [
            [
             0,
             "#0d0887"
            ],
            [
             0.1111111111111111,
             "#46039f"
            ],
            [
             0.2222222222222222,
             "#7201a8"
            ],
            [
             0.3333333333333333,
             "#9c179e"
            ],
            [
             0.4444444444444444,
             "#bd3786"
            ],
            [
             0.5555555555555556,
             "#d8576b"
            ],
            [
             0.6666666666666666,
             "#ed7953"
            ],
            [
             0.7777777777777778,
             "#fb9f3a"
            ],
            [
             0.8888888888888888,
             "#fdca26"
            ],
            [
             1,
             "#f0f921"
            ]
           ],
           "sequentialminus": [
            [
             0,
             "#0d0887"
            ],
            [
             0.1111111111111111,
             "#46039f"
            ],
            [
             0.2222222222222222,
             "#7201a8"
            ],
            [
             0.3333333333333333,
             "#9c179e"
            ],
            [
             0.4444444444444444,
             "#bd3786"
            ],
            [
             0.5555555555555556,
             "#d8576b"
            ],
            [
             0.6666666666666666,
             "#ed7953"
            ],
            [
             0.7777777777777778,
             "#fb9f3a"
            ],
            [
             0.8888888888888888,
             "#fdca26"
            ],
            [
             1,
             "#f0f921"
            ]
           ]
          },
          "colorway": [
           "#636efa",
           "#EF553B",
           "#00cc96",
           "#ab63fa",
           "#FFA15A",
           "#19d3f3",
           "#FF6692",
           "#B6E880",
           "#FF97FF",
           "#FECB52"
          ],
          "font": {
           "color": "#2a3f5f"
          },
          "geo": {
           "bgcolor": "white",
           "lakecolor": "white",
           "landcolor": "#E5ECF6",
           "showlakes": true,
           "showland": true,
           "subunitcolor": "white"
          },
          "hoverlabel": {
           "align": "left"
          },
          "hovermode": "closest",
          "mapbox": {
           "style": "light"
          },
          "paper_bgcolor": "white",
          "plot_bgcolor": "#E5ECF6",
          "polar": {
           "angularaxis": {
            "gridcolor": "white",
            "linecolor": "white",
            "ticks": ""
           },
           "bgcolor": "#E5ECF6",
           "radialaxis": {
            "gridcolor": "white",
            "linecolor": "white",
            "ticks": ""
           }
          },
          "scene": {
           "xaxis": {
            "backgroundcolor": "#E5ECF6",
            "gridcolor": "white",
            "gridwidth": 2,
            "linecolor": "white",
            "showbackground": true,
            "ticks": "",
            "zerolinecolor": "white"
           },
           "yaxis": {
            "backgroundcolor": "#E5ECF6",
            "gridcolor": "white",
            "gridwidth": 2,
            "linecolor": "white",
            "showbackground": true,
            "ticks": "",
            "zerolinecolor": "white"
           },
           "zaxis": {
            "backgroundcolor": "#E5ECF6",
            "gridcolor": "white",
            "gridwidth": 2,
            "linecolor": "white",
            "showbackground": true,
            "ticks": "",
            "zerolinecolor": "white"
           }
          },
          "shapedefaults": {
           "line": {
            "color": "#2a3f5f"
           }
          },
          "ternary": {
           "aaxis": {
            "gridcolor": "white",
            "linecolor": "white",
            "ticks": ""
           },
           "baxis": {
            "gridcolor": "white",
            "linecolor": "white",
            "ticks": ""
           },
           "bgcolor": "#E5ECF6",
           "caxis": {
            "gridcolor": "white",
            "linecolor": "white",
            "ticks": ""
           }
          },
          "title": {
           "x": 0.05
          },
          "xaxis": {
           "automargin": true,
           "gridcolor": "white",
           "linecolor": "white",
           "ticks": "",
           "title": {
            "standoff": 15
           },
           "zerolinecolor": "white",
           "zerolinewidth": 2
          },
          "yaxis": {
           "automargin": true,
           "gridcolor": "white",
           "linecolor": "white",
           "ticks": "",
           "title": {
            "standoff": 15
           },
           "zerolinecolor": "white",
           "zerolinewidth": 2
          }
         }
        },
        "xaxis": {
         "anchor": "y",
         "domain": [
          0,
          0.49
         ],
         "title": {
          "text": "session_to_lesion"
         }
        },
        "xaxis2": {
         "anchor": "y2",
         "domain": [
          0.51,
          1
         ],
         "matches": "x",
         "title": {
          "text": "session_to_lesion"
         }
        },
        "yaxis": {
         "anchor": "x",
         "domain": [
          0,
          1
         ],
         "title": {
          "text": "curvature"
         }
        },
        "yaxis2": {
         "anchor": "x2",
         "domain": [
          0,
          1
         ],
         "matches": "y",
         "showticklabels": false
        }
       }
      },
      "text/html": [
       "<div>                            <div id=\"680e6b0e-1e32-49d1-8cb0-48eae5dac2db\" class=\"plotly-graph-div\" style=\"height:525px; width:100%;\"></div>            <script type=\"text/javascript\">                require([\"plotly\"], function(Plotly) {                    window.PLOTLYENV=window.PLOTLYENV || {};                                    if (document.getElementById(\"680e6b0e-1e32-49d1-8cb0-48eae5dac2db\")) {                    Plotly.newPlot(                        \"680e6b0e-1e32-49d1-8cb0-48eae5dac2db\",                        [{\"alignmentgroup\":\"True\",\"boxpoints\":\"all\",\"hovertemplate\":\"lesion_type=lesion<br>condition=floor<br>session_to_lesion=%{x}<br>curvature=%{y}<extra></extra>\",\"legendgroup\":\"lesion\",\"marker\":{\"color\":\"#636efa\"},\"name\":\"lesion\",\"notched\":false,\"offsetgroup\":\"lesion\",\"orientation\":\"v\",\"showlegend\":true,\"type\":\"box\",\"x\":[-5.0,-4.0,-3.0,-2.0,-1.0,-5.0,-4.0,-3.0,-2.0,-1.0,1.0,2.0,3.0,4.0,5.0,-5.0,-4.0,-3.0,-2.0,-1.0,1.0,2.0,3.0,4.0,5.0,-5.0,-4.0,-3.0,-2.0,-1.0,1.0,2.0,3.0,4.0,5.0,-5.0,-4.0,-3.0,-2.0,-1.0,1.0,2.0,3.0,4.0,5.0,-5.0,-4.0,-3.0,-2.0,-1.0,1.0,2.0,3.0,4.0,5.0,-5.0,-4.0,-3.0,-2.0,-1.0,1.0,2.0,3.0,4.0,5.0,-5.0,-4.0,-3.0,-2.0,-1.0,1.0,2.0,3.0,4.0,5.0],\"x0\":\" \",\"xaxis\":\"x\",\"y\":[8.518469066826192,8.60670143728965,9.808012373225337,11.111780836532482,7.40324972524609,16.5355375889892,18.27247365380768,17.634317775222296,19.534399361860228,19.56814692406932,14.008190095774506,null,8.029835470182292,13.583309928568308,null,18.57947473223017,18.43216746812609,18.797852872321307,19.53378854746374,22.87806454497248,10.91553545849284,8.795811793286173,10.79151925215712,12.23154641237886,9.204597789592746,13.245314398590876,16.200752175376586,12.46822982765564,14.757096029994528,16.59886964104729,null,11.795302485546149,13.986933965001445,12.671425946917203,13.396770201094188,13.152001553150484,17.90277002061587,20.84845925211793,15.319673805578237,15.619458496098227,null,6.774142687782517,7.62228373683905,10.36699864721034,5.3979727161207,14.3736693694795,13.014250161387857,14.639205147366566,11.979060958386864,14.616478602605904,8.154634041651445,7.438190474286952,8.370982528396347,7.425231748340733,6.875949225302621,20.463022756895462,20.882955986947167,20.899866865775845,19.53594371028648,23.81551506839912,7.01702313685135,8.257353105358835,7.588534536688732,9.926805368088006,7.969208409531197,16.78637476498488,16.689042640855387,12.753959981740504,12.316165879983052,17.93232398449912,8.288650061590742,9.0160239890911,9.381897504452189,10.553561749224023,9.835656114482909],\"y0\":\" \",\"yaxis\":\"y\"},{\"alignmentgroup\":\"True\",\"boxpoints\":\"all\",\"hovertemplate\":\"lesion_type=lesion<br>condition=well<br>session_to_lesion=%{x}<br>curvature=%{y}<extra></extra>\",\"legendgroup\":\"lesion\",\"marker\":{\"color\":\"#636efa\"},\"name\":\"lesion\",\"notched\":false,\"offsetgroup\":\"lesion\",\"orientation\":\"v\",\"showlegend\":false,\"type\":\"box\",\"x\":[-5.0,-4.0,-3.0,-2.0,-1.0,-5.0,-4.0,-3.0,-2.0,-1.0,1.0,2.0,3.0,4.0,5.0,-5.0,-4.0,-3.0,-2.0,-1.0,1.0,2.0,3.0,4.0,5.0,-5.0,-4.0,-3.0,-2.0,-1.0,1.0,2.0,3.0,4.0,5.0,-5.0,-4.0,-3.0,-2.0,-1.0,1.0,2.0,3.0,4.0,5.0,-5.0,-4.0,-3.0,-2.0,-1.0,1.0,2.0,3.0,4.0,5.0,-5.0,-4.0,-3.0,-2.0,-1.0,1.0,2.0,3.0,4.0,5.0,-5.0,-4.0,-3.0,-2.0,-1.0,1.0,2.0,3.0,4.0,5.0],\"x0\":\" \",\"xaxis\":\"x2\",\"y\":[null,null,null,null,null,12.07606869521296,14.342182337183624,12.95383626120786,15.54973117480369,14.40265705715044,9.951227609329276,12.56521752967228,10.770428746821292,10.971853986274793,10.525513697321712,15.80893408319172,16.63881680269722,16.308313823137745,18.07319576973389,19.906475520971217,8.370472557926679,9.413995636652478,8.024784441055317,11.91081488853677,10.815640368987726,16.262056225907898,15.641674109436137,14.340493766373012,16.00741596603697,14.208319340341236,12.048304923755724,10.699373778442675,null,9.5687647784378,null,12.564119360673615,11.255669203902231,14.165869216989346,12.452976335312878,11.82925937781835,8.703734507119924,7.852637657264758,7.202792460291224,8.09671827872149,6.184292411134411,16.779501839294383,15.707063533319271,13.40810299634628,14.156803725181987,14.753427699130434,7.699641412141703,9.592605737493631,8.382732117768612,9.166076707100878,7.637281583060721,16.940149989118012,15.145287657589067,16.165961443669392,16.99082882124089,17.025293357179883,8.316758456468934,10.876029132337807,14.311323819329102,8.260727381299981,10.612996369940907,13.55984323063615,12.964830562233566,12.662198443540063,11.917428855706651,17.566823915957663,null,8.577433495892008,11.74118854042738,10.452815714307109,10.940391561711184],\"y0\":\" \",\"yaxis\":\"y2\"},{\"alignmentgroup\":\"True\",\"boxpoints\":\"all\",\"hovertemplate\":\"lesion_type=sham<br>condition=floor<br>session_to_lesion=%{x}<br>curvature=%{y}<extra></extra>\",\"legendgroup\":\"sham\",\"marker\":{\"color\":\"#EF553B\"},\"name\":\"sham\",\"notched\":false,\"offsetgroup\":\"sham\",\"orientation\":\"v\",\"showlegend\":true,\"type\":\"box\",\"x\":[-5.0,-4.0,-3.0,-2.0,-1.0,1.0,2.0,3.0,4.0,5.0,-5.0,-4.0,-3.0,-2.0,-1.0,1.0,2.0,3.0,4.0,5.0,-5.0,-4.0,-3.0,-2.0,-1.0,1.0,2.0,3.0,4.0,5.0],\"x0\":\" \",\"xaxis\":\"x\",\"y\":[13.613644969517832,11.122135543775574,11.514228790219695,11.358897502660673,13.330583123466,10.187438384227882,10.97913649867937,13.645997692357945,12.688274913075816,9.963461013171596,11.531588763144065,9.236390279668898,9.141129624410771,10.205237502845058,10.09930297036044,null,8.14439616785547,7.468905799078346,6.762374153587004,5.349509561569093,10.516845268948334,10.032555960998,null,10.30447963500824,10.276326366818733,9.88016281341845,10.23946041354858,10.739125612614606,11.312219050530905,11.090042140292198],\"y0\":\" \",\"yaxis\":\"y\"},{\"alignmentgroup\":\"True\",\"boxpoints\":\"all\",\"hovertemplate\":\"lesion_type=sham<br>condition=well<br>session_to_lesion=%{x}<br>curvature=%{y}<extra></extra>\",\"legendgroup\":\"sham\",\"marker\":{\"color\":\"#EF553B\"},\"name\":\"sham\",\"notched\":false,\"offsetgroup\":\"sham\",\"orientation\":\"v\",\"showlegend\":false,\"type\":\"box\",\"x\":[-5.0,-4.0,-3.0,-2.0,-1.0,1.0,2.0,3.0,4.0,5.0,-5.0,-4.0,-3.0,-2.0,-1.0,1.0,2.0,3.0,4.0,5.0,-5.0,-4.0,-3.0,-2.0,-1.0,1.0,2.0,3.0,4.0,5.0],\"x0\":\" \",\"xaxis\":\"x2\",\"y\":[11.289269200048873,12.142605939664032,10.343449454251076,10.697666830442552,12.47973810821582,11.359497507713195,8.911168554809125,12.490906526875444,10.204159094342222,11.84324218110896,12.77800243305012,13.795820805521592,9.9838822432697,12.983396671540005,9.708283810486646,8.641192869115198,8.2723968184093,null,null,null,10.413796231040044,9.921660316858995,12.14216454469037,15.329618702272596,11.477975056239456,null,9.77223654223001,10.256618592053693,10.68531364062142,10.751605239657776],\"y0\":\" \",\"yaxis\":\"y2\"}],                        {\"annotations\":[{\"font\":{},\"showarrow\":false,\"text\":\"condition=floor\",\"x\":0.245,\"xanchor\":\"center\",\"xref\":\"paper\",\"y\":1.0,\"yanchor\":\"bottom\",\"yref\":\"paper\"},{\"font\":{},\"showarrow\":false,\"text\":\"condition=well\",\"x\":0.755,\"xanchor\":\"center\",\"xref\":\"paper\",\"y\":1.0,\"yanchor\":\"bottom\",\"yref\":\"paper\"}],\"boxmode\":\"group\",\"legend\":{\"title\":{\"text\":\"lesion_type\"},\"tracegroupgap\":0},\"margin\":{\"t\":60},\"template\":{\"data\":{\"bar\":[{\"error_x\":{\"color\":\"#2a3f5f\"},\"error_y\":{\"color\":\"#2a3f5f\"},\"marker\":{\"line\":{\"color\":\"#E5ECF6\",\"width\":0.5},\"pattern\":{\"fillmode\":\"overlay\",\"size\":10,\"solidity\":0.2}},\"type\":\"bar\"}],\"barpolar\":[{\"marker\":{\"line\":{\"color\":\"#E5ECF6\",\"width\":0.5},\"pattern\":{\"fillmode\":\"overlay\",\"size\":10,\"solidity\":0.2}},\"type\":\"barpolar\"}],\"carpet\":[{\"aaxis\":{\"endlinecolor\":\"#2a3f5f\",\"gridcolor\":\"white\",\"linecolor\":\"white\",\"minorgridcolor\":\"white\",\"startlinecolor\":\"#2a3f5f\"},\"baxis\":{\"endlinecolor\":\"#2a3f5f\",\"gridcolor\":\"white\",\"linecolor\":\"white\",\"minorgridcolor\":\"white\",\"startlinecolor\":\"#2a3f5f\"},\"type\":\"carpet\"}],\"choropleth\":[{\"colorbar\":{\"outlinewidth\":0,\"ticks\":\"\"},\"type\":\"choropleth\"}],\"contour\":[{\"colorbar\":{\"outlinewidth\":0,\"ticks\":\"\"},\"colorscale\":[[0.0,\"#0d0887\"],[0.1111111111111111,\"#46039f\"],[0.2222222222222222,\"#7201a8\"],[0.3333333333333333,\"#9c179e\"],[0.4444444444444444,\"#bd3786\"],[0.5555555555555556,\"#d8576b\"],[0.6666666666666666,\"#ed7953\"],[0.7777777777777778,\"#fb9f3a\"],[0.8888888888888888,\"#fdca26\"],[1.0,\"#f0f921\"]],\"type\":\"contour\"}],\"contourcarpet\":[{\"colorbar\":{\"outlinewidth\":0,\"ticks\":\"\"},\"type\":\"contourcarpet\"}],\"heatmap\":[{\"colorbar\":{\"outlinewidth\":0,\"ticks\":\"\"},\"colorscale\":[[0.0,\"#0d0887\"],[0.1111111111111111,\"#46039f\"],[0.2222222222222222,\"#7201a8\"],[0.3333333333333333,\"#9c179e\"],[0.4444444444444444,\"#bd3786\"],[0.5555555555555556,\"#d8576b\"],[0.6666666666666666,\"#ed7953\"],[0.7777777777777778,\"#fb9f3a\"],[0.8888888888888888,\"#fdca26\"],[1.0,\"#f0f921\"]],\"type\":\"heatmap\"}],\"heatmapgl\":[{\"colorbar\":{\"outlinewidth\":0,\"ticks\":\"\"},\"colorscale\":[[0.0,\"#0d0887\"],[0.1111111111111111,\"#46039f\"],[0.2222222222222222,\"#7201a8\"],[0.3333333333333333,\"#9c179e\"],[0.4444444444444444,\"#bd3786\"],[0.5555555555555556,\"#d8576b\"],[0.6666666666666666,\"#ed7953\"],[0.7777777777777778,\"#fb9f3a\"],[0.8888888888888888,\"#fdca26\"],[1.0,\"#f0f921\"]],\"type\":\"heatmapgl\"}],\"histogram\":[{\"marker\":{\"pattern\":{\"fillmode\":\"overlay\",\"size\":10,\"solidity\":0.2}},\"type\":\"histogram\"}],\"histogram2d\":[{\"colorbar\":{\"outlinewidth\":0,\"ticks\":\"\"},\"colorscale\":[[0.0,\"#0d0887\"],[0.1111111111111111,\"#46039f\"],[0.2222222222222222,\"#7201a8\"],[0.3333333333333333,\"#9c179e\"],[0.4444444444444444,\"#bd3786\"],[0.5555555555555556,\"#d8576b\"],[0.6666666666666666,\"#ed7953\"],[0.7777777777777778,\"#fb9f3a\"],[0.8888888888888888,\"#fdca26\"],[1.0,\"#f0f921\"]],\"type\":\"histogram2d\"}],\"histogram2dcontour\":[{\"colorbar\":{\"outlinewidth\":0,\"ticks\":\"\"},\"colorscale\":[[0.0,\"#0d0887\"],[0.1111111111111111,\"#46039f\"],[0.2222222222222222,\"#7201a8\"],[0.3333333333333333,\"#9c179e\"],[0.4444444444444444,\"#bd3786\"],[0.5555555555555556,\"#d8576b\"],[0.6666666666666666,\"#ed7953\"],[0.7777777777777778,\"#fb9f3a\"],[0.8888888888888888,\"#fdca26\"],[1.0,\"#f0f921\"]],\"type\":\"histogram2dcontour\"}],\"mesh3d\":[{\"colorbar\":{\"outlinewidth\":0,\"ticks\":\"\"},\"type\":\"mesh3d\"}],\"parcoords\":[{\"line\":{\"colorbar\":{\"outlinewidth\":0,\"ticks\":\"\"}},\"type\":\"parcoords\"}],\"pie\":[{\"automargin\":true,\"type\":\"pie\"}],\"scatter\":[{\"marker\":{\"colorbar\":{\"outlinewidth\":0,\"ticks\":\"\"}},\"type\":\"scatter\"}],\"scatter3d\":[{\"line\":{\"colorbar\":{\"outlinewidth\":0,\"ticks\":\"\"}},\"marker\":{\"colorbar\":{\"outlinewidth\":0,\"ticks\":\"\"}},\"type\":\"scatter3d\"}],\"scattercarpet\":[{\"marker\":{\"colorbar\":{\"outlinewidth\":0,\"ticks\":\"\"}},\"type\":\"scattercarpet\"}],\"scattergeo\":[{\"marker\":{\"colorbar\":{\"outlinewidth\":0,\"ticks\":\"\"}},\"type\":\"scattergeo\"}],\"scattergl\":[{\"marker\":{\"colorbar\":{\"outlinewidth\":0,\"ticks\":\"\"}},\"type\":\"scattergl\"}],\"scattermapbox\":[{\"marker\":{\"colorbar\":{\"outlinewidth\":0,\"ticks\":\"\"}},\"type\":\"scattermapbox\"}],\"scatterpolar\":[{\"marker\":{\"colorbar\":{\"outlinewidth\":0,\"ticks\":\"\"}},\"type\":\"scatterpolar\"}],\"scatterpolargl\":[{\"marker\":{\"colorbar\":{\"outlinewidth\":0,\"ticks\":\"\"}},\"type\":\"scatterpolargl\"}],\"scatterternary\":[{\"marker\":{\"colorbar\":{\"outlinewidth\":0,\"ticks\":\"\"}},\"type\":\"scatterternary\"}],\"surface\":[{\"colorbar\":{\"outlinewidth\":0,\"ticks\":\"\"},\"colorscale\":[[0.0,\"#0d0887\"],[0.1111111111111111,\"#46039f\"],[0.2222222222222222,\"#7201a8\"],[0.3333333333333333,\"#9c179e\"],[0.4444444444444444,\"#bd3786\"],[0.5555555555555556,\"#d8576b\"],[0.6666666666666666,\"#ed7953\"],[0.7777777777777778,\"#fb9f3a\"],[0.8888888888888888,\"#fdca26\"],[1.0,\"#f0f921\"]],\"type\":\"surface\"}],\"table\":[{\"cells\":{\"fill\":{\"color\":\"#EBF0F8\"},\"line\":{\"color\":\"white\"}},\"header\":{\"fill\":{\"color\":\"#C8D4E3\"},\"line\":{\"color\":\"white\"}},\"type\":\"table\"}]},\"layout\":{\"annotationdefaults\":{\"arrowcolor\":\"#2a3f5f\",\"arrowhead\":0,\"arrowwidth\":1},\"autotypenumbers\":\"strict\",\"coloraxis\":{\"colorbar\":{\"outlinewidth\":0,\"ticks\":\"\"}},\"colorscale\":{\"diverging\":[[0,\"#8e0152\"],[0.1,\"#c51b7d\"],[0.2,\"#de77ae\"],[0.3,\"#f1b6da\"],[0.4,\"#fde0ef\"],[0.5,\"#f7f7f7\"],[0.6,\"#e6f5d0\"],[0.7,\"#b8e186\"],[0.8,\"#7fbc41\"],[0.9,\"#4d9221\"],[1,\"#276419\"]],\"sequential\":[[0.0,\"#0d0887\"],[0.1111111111111111,\"#46039f\"],[0.2222222222222222,\"#7201a8\"],[0.3333333333333333,\"#9c179e\"],[0.4444444444444444,\"#bd3786\"],[0.5555555555555556,\"#d8576b\"],[0.6666666666666666,\"#ed7953\"],[0.7777777777777778,\"#fb9f3a\"],[0.8888888888888888,\"#fdca26\"],[1.0,\"#f0f921\"]],\"sequentialminus\":[[0.0,\"#0d0887\"],[0.1111111111111111,\"#46039f\"],[0.2222222222222222,\"#7201a8\"],[0.3333333333333333,\"#9c179e\"],[0.4444444444444444,\"#bd3786\"],[0.5555555555555556,\"#d8576b\"],[0.6666666666666666,\"#ed7953\"],[0.7777777777777778,\"#fb9f3a\"],[0.8888888888888888,\"#fdca26\"],[1.0,\"#f0f921\"]]},\"colorway\":[\"#636efa\",\"#EF553B\",\"#00cc96\",\"#ab63fa\",\"#FFA15A\",\"#19d3f3\",\"#FF6692\",\"#B6E880\",\"#FF97FF\",\"#FECB52\"],\"font\":{\"color\":\"#2a3f5f\"},\"geo\":{\"bgcolor\":\"white\",\"lakecolor\":\"white\",\"landcolor\":\"#E5ECF6\",\"showlakes\":true,\"showland\":true,\"subunitcolor\":\"white\"},\"hoverlabel\":{\"align\":\"left\"},\"hovermode\":\"closest\",\"mapbox\":{\"style\":\"light\"},\"paper_bgcolor\":\"white\",\"plot_bgcolor\":\"#E5ECF6\",\"polar\":{\"angularaxis\":{\"gridcolor\":\"white\",\"linecolor\":\"white\",\"ticks\":\"\"},\"bgcolor\":\"#E5ECF6\",\"radialaxis\":{\"gridcolor\":\"white\",\"linecolor\":\"white\",\"ticks\":\"\"}},\"scene\":{\"xaxis\":{\"backgroundcolor\":\"#E5ECF6\",\"gridcolor\":\"white\",\"gridwidth\":2,\"linecolor\":\"white\",\"showbackground\":true,\"ticks\":\"\",\"zerolinecolor\":\"white\"},\"yaxis\":{\"backgroundcolor\":\"#E5ECF6\",\"gridcolor\":\"white\",\"gridwidth\":2,\"linecolor\":\"white\",\"showbackground\":true,\"ticks\":\"\",\"zerolinecolor\":\"white\"},\"zaxis\":{\"backgroundcolor\":\"#E5ECF6\",\"gridcolor\":\"white\",\"gridwidth\":2,\"linecolor\":\"white\",\"showbackground\":true,\"ticks\":\"\",\"zerolinecolor\":\"white\"}},\"shapedefaults\":{\"line\":{\"color\":\"#2a3f5f\"}},\"ternary\":{\"aaxis\":{\"gridcolor\":\"white\",\"linecolor\":\"white\",\"ticks\":\"\"},\"baxis\":{\"gridcolor\":\"white\",\"linecolor\":\"white\",\"ticks\":\"\"},\"bgcolor\":\"#E5ECF6\",\"caxis\":{\"gridcolor\":\"white\",\"linecolor\":\"white\",\"ticks\":\"\"}},\"title\":{\"x\":0.05},\"xaxis\":{\"automargin\":true,\"gridcolor\":\"white\",\"linecolor\":\"white\",\"ticks\":\"\",\"title\":{\"standoff\":15},\"zerolinecolor\":\"white\",\"zerolinewidth\":2},\"yaxis\":{\"automargin\":true,\"gridcolor\":\"white\",\"linecolor\":\"white\",\"ticks\":\"\",\"title\":{\"standoff\":15},\"zerolinecolor\":\"white\",\"zerolinewidth\":2}}},\"xaxis\":{\"anchor\":\"y\",\"domain\":[0.0,0.49],\"title\":{\"text\":\"session_to_lesion\"}},\"xaxis2\":{\"anchor\":\"y2\",\"domain\":[0.51,1.0],\"matches\":\"x\",\"title\":{\"text\":\"session_to_lesion\"}},\"yaxis\":{\"anchor\":\"x\",\"domain\":[0.0,1.0],\"title\":{\"text\":\"curvature\"}},\"yaxis2\":{\"anchor\":\"x2\",\"domain\":[0.0,1.0],\"matches\":\"y\",\"showticklabels\":false}},                        {\"responsive\": true}                    ).then(function(){\n",
       "                            \n",
       "var gd = document.getElementById('680e6b0e-1e32-49d1-8cb0-48eae5dac2db');\n",
       "var x = new MutationObserver(function (mutations, observer) {{\n",
       "        var display = window.getComputedStyle(gd).display;\n",
       "        if (!display || display === 'none') {{\n",
       "            console.log([gd, 'removed!']);\n",
       "            Plotly.purge(gd);\n",
       "            observer.disconnect();\n",
       "        }}\n",
       "}});\n",
       "\n",
       "// Listen for the removal of the full notebook cells\n",
       "var notebookContainer = gd.closest('#notebook-container');\n",
       "if (notebookContainer) {{\n",
       "    x.observe(notebookContainer, {childList: true});\n",
       "}}\n",
       "\n",
       "// Listen for the clearing of the current output cell\n",
       "var outputEl = gd.closest('.output');\n",
       "if (outputEl) {{\n",
       "    x.observe(outputEl, {childList: true});\n",
       "}}\n",
       "\n",
       "                        })                };                });            </script>        </div>"
      ]
     },
     "metadata": {},
     "output_type": "display_data"
    }
   ],
   "source": [
    "# todo: add means\n",
    "fig = px.box(df[df.summary == \"median\"], x=\"session_to_lesion\", \n",
    "                 y=\"curvature\", color = \"lesion_type\", facet_col=\"condition\",\n",
    "                points = \"all\")\n",
    "#fig = px.box(df, x=\"time\", y=\"total_bill\", points=\"all\")\n",
    "\n",
    "fig.show()"
   ]
  },
  {
   "cell_type": "code",
   "execution_count": 24,
   "id": "neutral-pakistan",
   "metadata": {},
   "outputs": [],
   "source": [
    "fig.write_image(\"../figs/curvature_summary.png\")"
   ]
  },
  {
   "cell_type": "code",
   "execution_count": null,
   "id": "prescribed-pearl",
   "metadata": {},
   "outputs": [],
   "source": []
  }
 ],
 "metadata": {
  "kernelspec": {
   "display_name": "mrmrd_ctrl",
   "language": "python",
   "name": "mrmrd_ctrl"
  },
  "language_info": {
   "codemirror_mode": {
    "name": "ipython",
    "version": 3
   },
   "file_extension": ".py",
   "mimetype": "text/x-python",
   "name": "python",
   "nbconvert_exporter": "python",
   "pygments_lexer": "ipython3",
   "version": "3.9.4"
  }
 },
 "nbformat": 4,
 "nbformat_minor": 5
}
